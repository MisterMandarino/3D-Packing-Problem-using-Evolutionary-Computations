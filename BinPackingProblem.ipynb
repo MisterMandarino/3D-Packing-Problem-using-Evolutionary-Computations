{
 "cells": [
  {
   "cell_type": "markdown",
   "metadata": {},
   "source": [
    "# Bin Packing Problem With Evolutionary Computations"
   ]
  },
  {
   "cell_type": "code",
   "execution_count": 94,
   "metadata": {},
   "outputs": [],
   "source": [
    "from enum import Enum\n",
    "from copy import copy, deepcopy\n",
    "import matplotlib.pyplot as plt\n",
    "from matplotlib.patches import Rectangle\n",
    "from random import choices, randint, randrange, random, choice\n",
    "import matplotlib.pyplot as plt\n",
    "from math import sqrt\n",
    "from tqdm import tqdm\n",
    "import numpy as np"
   ]
  },
  {
   "cell_type": "markdown",
   "metadata": {},
   "source": [
    "## 2D-Bin Packing Baseline - Greed Search with Heuristics\n",
    "\n",
    "**Code** https://github.com/SebastianBitsch/bin-packing/blob/master/README.md"
   ]
  },
  {
   "cell_type": "code",
   "execution_count": 10,
   "metadata": {},
   "outputs": [],
   "source": [
    "class PointType(Enum):\n",
    "    BOTTOM_LEFT = 0\n",
    "    BOTTOM_RIGHT = 1\n",
    "    TOP_LEFT = 2\n",
    "    TOP_RIGHT = 3\n",
    "\n",
    "# Plot settings\n",
    "figsize = (12,6)\n",
    "placed_rect_color = 'lightblue'\n",
    "unplaced_rect_color = 'grey'\n",
    "ghost_rect_color = 'lightgrey'\n",
    "edge_color = 'black'\n",
    "alpha = 0.5\n",
    "\n",
    "# Time settings\n",
    "frametime = 0.02\n",
    "starttime = 1\n",
    "endtime = 10\n",
    "\n",
    "all_rects = []\n",
    "max_width = 0\n",
    "\n",
    "\n",
    "def argmax(lst):\n",
    "    return lst.index(max(lst))\n",
    "\n",
    "def initialize_plot(C, rects = None, frame_time: float = 0.02, start_time: float = 4, end_time: float = 20, fig_size = (12,6)):\n",
    "    global frametime, starttime, endtime\n",
    "    global figsize, max_width\n",
    "    global all_rects\n",
    "\n",
    "    frametime = frame_time\n",
    "    starttime = start_time\n",
    "    endtime = end_time\n",
    "    figsize = fig_size\n",
    "\n",
    "    # Used for showing custom rects when late initializing plot\n",
    "    if rects == None:\n",
    "        all_rects = copy(C.unpacked_rects)\n",
    "    else:\n",
    "        all_rects = rects\n",
    "    max_width = sum([r[0] for r in all_rects]) + 1 + len(all_rects)#TODO: Find better way of doing this\n",
    "\n",
    "\n",
    "def plot_configuration(C, last_frame: bool):\n",
    "    _, axs = plt.subplots(nrows=1, ncols=2,figsize=(12,6))\n",
    "\n",
    "    # TODO: Find way to set this in init instead of every time plot is updated\n",
    "    # Set the ticks for the main plot\n",
    "    axs[0].set_xlim([0,C.size[0]])\n",
    "    axs[0].set_ylim([0,C.size[1]])\n",
    "    axs[0].set_xticks(range(0, C.size[0]+1, 5))\n",
    "    axs[0].set_yticks(range(0, C.size[1]+1, 5))\n",
    "    \n",
    "    # Hide ticks for secondary ploty\n",
    "    axs[1].set_xticks([])\n",
    "    axs[1].set_yticks([])\n",
    "    axs[1].set_xlim([0,max_width])\n",
    "    axs[1].set_ylim([0,max_width])\n",
    "\n",
    "\n",
    "    # Draw the placed rects in main plot\n",
    "    for rect in C.packed_rects:\n",
    "        draw_rect(axs[0], rect.origin, rect.width, rect.height, placed_rect_color, edge_color, alpha)\n",
    "    \n",
    "    # Draw the possible ccoas main plot\n",
    "    for rect in C.L:\n",
    "        draw_rect(axs[0], rect.origin, rect.width, rect.height, ghost_rect_color, edge_color, 0.05)\n",
    "    \n",
    "    draw_points(axs[0], C.concave_corners)\n",
    "\n",
    "    # Draw secondary plot\n",
    "    draw_rects_overview(axs[1], all_rects, C.unpacked_rects)\n",
    "\n",
    "    #final_time = endtime if last_frame else 0\n",
    "    plt.show(block=False)\n",
    "    #plt.pause(frametime + final_time)\n",
    "    plt.close()\n",
    "\n",
    "\n",
    "def draw_points(ax, corners: list[tuple], color='red', marker='x'):\n",
    "    \"\"\"\n",
    "    Plot points given on the format [Point, Pointtype]\n",
    "    \"\"\"\n",
    "    x = [i[0][0] for i in corners]\n",
    "    y = [i[0][1] for i in corners]\n",
    "    ax.scatter(x, y, c=color, marker=marker)\n",
    "\n",
    "\n",
    "def draw_rects_overview(ax, all_rects: list, unplaced_rects: list):\n",
    "    tallest = 0\n",
    "    current_pos = (1,1)\n",
    "\n",
    "    for w,h in all_rects:\n",
    "        unplaced: bool = ((w,h) or (h,w)) in unplaced_rects\n",
    "        color = unplaced_rect_color if unplaced else placed_rect_color\n",
    "        tallest = max(tallest, h)\n",
    "        \n",
    "        draw_rect(ax, current_pos, w, h, background_color=color, edge_color=edge_color,alpha=alpha)\n",
    "     \n",
    "        current_pos = (current_pos[0] + w + 1, current_pos[1])\n",
    "        \n",
    "        if max_width < current_pos[0] + w + 1:\n",
    "            current_pos = (1, current_pos[1] + tallest + 1)\n",
    "            tallest = 0\n",
    "\n",
    "\n",
    "def draw_rect(ax, origin, w, h, background_color, edge_color, alpha):\n",
    "    box = Rectangle(origin, w, h, fc=background_color,ec=edge_color,alpha=alpha)\n",
    "    ax.add_patch(box)"
   ]
  },
  {
   "cell_type": "code",
   "execution_count": 11,
   "metadata": {},
   "outputs": [],
   "source": [
    "class Rect:\n",
    "\n",
    "    def __init__(self, origin: tuple, width:float, height:float, origin_type: PointType = PointType.BOTTOM_LEFT, rotated:bool = False) -> None:\n",
    "        \"\"\"\n",
    "        A container class and data structure for a rect representing a box to be packed. \n",
    "        Main functionality consists of wrapping and data and checking if rects overlap contain points etc.\n",
    "\n",
    "        Parameters\n",
    "        ----------\n",
    "        origin, tuple\n",
    "            a tuple of (x,y) coordinates containing the ogigin point of the box. Can be either of corners depending on the case\n",
    "\n",
    "        width, float\n",
    "            the width of the rect\n",
    "\n",
    "        height, float\n",
    "            the height of the rect\n",
    "\n",
    "        origin_type, PointType\n",
    "            an enum value determining which of the four corners is the origin point\n",
    "\n",
    "        rotated, bool\n",
    "            boolean value indicating whether the rect is rotated\n",
    "        \"\"\"        \n",
    "\n",
    "        assert(0 < width and 0 < height)\n",
    "\n",
    "        if rotated:\n",
    "            temp = height\n",
    "            height = width\n",
    "            width = temp\n",
    "\n",
    "        # Shift origin to bottom left corner depending on what type of point was given\n",
    "        if origin_type == PointType.BOTTOM_LEFT:\n",
    "            self.origin = origin\n",
    "        if origin_type == PointType.TOP_LEFT:\n",
    "            self.origin = (origin[0], origin[1] - height)\n",
    "        if origin_type == PointType.BOTTOM_RIGHT:\n",
    "            self.origin = (origin[0] - width, origin[1])\n",
    "        if origin_type == PointType.TOP_RIGHT:\n",
    "            self.origin = (origin[0] - width, origin[1] - height)\n",
    "        \n",
    "        self.width = width\n",
    "        self.height = height\n",
    "        self.rotated = rotated\n",
    "\n",
    "        self.bottom = self.origin[1]\n",
    "        self.top = self.origin[1]+self.height\n",
    "        self.left = self.origin[0]\n",
    "        self.right = self.origin[0]+self.width\n",
    "\n",
    "        self.corner_bot_l = (self.left, self.bottom)\n",
    "        self.corner_top_l = (self.left, self.top)\n",
    "        self.corner_top_r = (self.right, self.top)\n",
    "        self.corner_bot_r = (self.right, self.bottom)\n",
    "\n",
    "\n",
    "    def __copy__(self):\n",
    "        cls = self.__class__\n",
    "        result = cls.__new__(cls)\n",
    "        result.__dict__.update(self.__dict__)\n",
    "        return result\n",
    "\n",
    "\n",
    "    def __deepcopy__(self, memo):\n",
    "        cls = self.__class__\n",
    "        result = cls.__new__(cls)\n",
    "        memo[id(self)] = result\n",
    "        for k, v in self.__dict__.items():\n",
    "            setattr(result, k, deepcopy(v, memo))\n",
    "        return result\n",
    "\n",
    "\n",
    "    @property\n",
    "    def area(self) -> float:\n",
    "        return self.width * self.height\n",
    "\n",
    "\n",
    "    def contains(self, point: tuple) -> bool:\n",
    "        \"\"\" Return whether the rect contains a given point (x,y) \"\"\"\n",
    "        return self.corner_bot_l[0] <= point[0] and self.corner_bot_l[1] <= point[1] and point[0] <= self.corner_top_r[0] and point[1] <= self.corner_top_r[1]\n",
    "\n",
    "\n",
    "    def min_distance(self, other) -> float:\n",
    "        \"\"\"\n",
    "        Returns the minumum distance between two Rects (AABBs), using an outer Rect method as described\n",
    "        in: https://gamedev.stackexchange.com/questions/154036/efficient-minimum-distance-between-two-axis-aligned-squares\n",
    "        \"\"\"\n",
    "        outer_left = min(self.left, other.left)\n",
    "        outer_right = max(self.right, other.right)\n",
    "        outer_bottom = min(self.bottom, other.bottom)\n",
    "        outer_top = max(self.top, other.top)\n",
    "\n",
    "        outer_width = outer_right - outer_left\n",
    "        outer_height = outer_top - outer_bottom\n",
    "\n",
    "        inner_width = max(0, outer_width - self.width - other.width)\n",
    "        inner_height = max(0, outer_height - self.height - other.height)\n",
    "\n",
    "        # TODO: Might be able to remove a sqrt here, not sure\n",
    "        return sqrt(inner_width**2 + inner_height**2)\n",
    "\n",
    "\n",
    "    def overlaps(self, other) -> bool:\n",
    "        \"\"\"\n",
    "        Returns wether two Rects overlap\n",
    "        \"\"\"\n",
    "        if self.right <= other.left or other.right <= self.left:\n",
    "            return False\n",
    "        if self.top <= other.bottom or other.top <= self.bottom:\n",
    "            return False\n",
    "        return True\n",
    "        \n",
    "\n",
    "    def __iter__(self):\n",
    "        \"\"\"\n",
    "        Iterate through rectangle corners\n",
    "        \"\"\"\n",
    "        yield self.corner_bot_l\n",
    "        yield self.corner_top_l\n",
    "        yield self.corner_top_r\n",
    "        yield self.corner_bot_r\n",
    "\n",
    "    def __repr__(self):\n",
    "        return \"R = (({}, {}), w={}, h={},r={})\".format(self.origin[0], self.origin[1], self.width, self.height,self.rotated)"
   ]
  },
  {
   "cell_type": "code",
   "execution_count": 12,
   "metadata": {},
   "outputs": [],
   "source": [
    "class Configuration:\n",
    "\n",
    "    # The amount to look in each direction when determining if a corner is concave\n",
    "    eps = 0.001\n",
    "\n",
    "    def __init__(self, size: tuple, unpacked_rects: list, packed_rects: list[Rect] = [], enable_plotting: bool = False) -> None:\n",
    "        self.size = size\n",
    "        \n",
    "        self.unpacked_rects = unpacked_rects\n",
    "        self.packed_rects = packed_rects\n",
    "        self.plotting = enable_plotting\n",
    "        \n",
    "        self.generate_L()\n",
    "\n",
    "        if self.plotting:\n",
    "            initialize_plot(self)\n",
    "            \n",
    "\n",
    "    def __copy__(self):\n",
    "        cls = self.__class__\n",
    "        result = cls.__new__(cls)\n",
    "        result.__dict__.update(self.__dict__)\n",
    "        return result\n",
    "\n",
    "    def __deepcopy__(self, memo):\n",
    "        cls = self.__class__\n",
    "        result = cls.__new__(cls)\n",
    "        memo[id(self)] = result\n",
    "        for k, v in self.__dict__.items():\n",
    "            setattr(result, k, deepcopy(v, memo))\n",
    "        return result\n",
    "\n",
    "    def enable_plotting(self):\n",
    "        self.plotting = False\n",
    "\n",
    "    # TODO: Can be alot faster by taking the most recently placed rect as input - and only generating \n",
    "    #       new ccoas for points that are contained in the new rect\n",
    "    def generate_L(self):\n",
    "        \"\"\"\n",
    "        A function that takes the current configuration, all the remaining rects and returns all\n",
    "        possible CCOAs that can be fitted to the configuration\n",
    "        Parameters\n",
    "        ----------\n",
    "        C: Configuration, required\n",
    "            The current configuration\n",
    "        \n",
    "        remaining_rects: list[tuple], required:\n",
    "            The dimensions of the rects yet to be packed. On the format: (w,h)\n",
    "        \"\"\"\n",
    "        # 1. concave corners\n",
    "        self.concave_corners = self.get_concave_corners()\n",
    "\n",
    "        # 2. generate ccoas for every rect\n",
    "        ccoas: list[Rect] = []\n",
    "        for x, y in self.unpacked_rects:\n",
    "            for corner, type in self.concave_corners:\n",
    "                for rotated in [False, True]:\n",
    "                    ccoa = Rect(corner, x, y, type, rotated)\n",
    "\n",
    "                    # 3. Add if it fits\n",
    "                    if not self.fits(ccoa):\n",
    "                        continue\n",
    "                    ccoas.append(ccoa)\n",
    "\n",
    "        self.L = ccoas\n",
    "\n",
    "    def get_concave_corners(self) -> list[tuple[tuple,PointType]]:\n",
    "        concave_corners: list[tuple(tuple,PointType)] = []\n",
    "\n",
    "        for corner in self.get_all_corners():\n",
    "            corner_type = self.get_corner_type(corner)\n",
    "            if corner_type:\n",
    "                concave_corners.append((corner,corner_type))\n",
    "\n",
    "        return concave_corners\n",
    "\n",
    "    def get_corner_type(self, p: tuple) -> bool:\n",
    "        checks = self.check_boundaries(p)\n",
    "        if sum(checks) == 3:\n",
    "            index = [i for i, x in enumerate(checks) if not x][0]\n",
    "            return PointType(index)\n",
    "        return None\n",
    "\n",
    "    def check_boundaries(self, p: tuple):\n",
    "        return [\n",
    "            self.contains((p[0]+self.eps, p[1]+self.eps)),\n",
    "            self.contains((p[0]-self.eps, p[1]+self.eps)),\n",
    "            self.contains((p[0]+self.eps, p[1]-self.eps)),\n",
    "            self.contains((p[0]-self.eps, p[1]-self.eps))\n",
    "        ]\n",
    "\n",
    "    def contains(self, point: tuple) -> bool:\n",
    "        # Return true if point is out of bounds\n",
    "        if point[0] <= 0 or point[1] <= 0 or self.size[0] <= point[0] or self.size[1] <= point[1]:\n",
    "            return True\n",
    "        \n",
    "        # Check if any of the packed rects contain the point\n",
    "        for r in self.packed_rects:\n",
    "            if r.contains(point):\n",
    "                return True\n",
    "        return False\n",
    "\n",
    "\n",
    "    def fits(self, ccoa: Rect) -> bool:\n",
    "        \"\"\"\n",
    "        Returns true if a given ccoa fits into the configuration without overlapping any of the rects\n",
    "        or being out of bounds\n",
    "        \"\"\"\n",
    "        # Check if the ccoa is out of bounds in any way\n",
    "        if ccoa.origin[0] < 0 or ccoa.origin[1] < 0 or self.size[0] < ccoa.origin[0] + ccoa.width or self.size[1] < ccoa.origin[1] + ccoa.height:\n",
    "            return False\n",
    "        \n",
    "        # Check if the rect overlaps any of the already packed rects\n",
    "        for rect in self.packed_rects:\n",
    "            if ccoa.overlaps(rect):\n",
    "                return False\n",
    "        return True\n",
    "\n",
    "\n",
    "    def place_rect(self, rect: Rect) -> None:\n",
    "        # Add rect to packed rects\n",
    "        self.packed_rects.append(rect)\n",
    "\n",
    "        # Remove the rect from unpacked rects\n",
    "        if (rect.width,rect.height) in self.unpacked_rects:\n",
    "            self.unpacked_rects.remove((rect.width,rect.height))\n",
    "        elif (rect.height, rect.width) in self.unpacked_rects:\n",
    "            self.unpacked_rects.remove((rect.height, rect.width))\n",
    "\n",
    "        self.generate_L() # TODO: Do somehing like passing the just placed rect for more efficiency\n",
    "\n",
    "        # Create plot\n",
    "        if self.plotting:\n",
    "            plot_configuration(self, self.is_successful())\n",
    "\n",
    "\n",
    "    def density(self) -> float:\n",
    "        \"\"\"\n",
    "        Return the percentage of total container area filled by packed rects\n",
    "        \"\"\"\n",
    "        total_area = self.size[0] * self.size[1]\n",
    "        occupied_area = sum([x.area for x in self.packed_rects])\n",
    "\n",
    "        return occupied_area/total_area\n",
    "\n",
    "\n",
    "    def get_all_corners(self) -> list[tuple]:\n",
    "        \"\"\"\n",
    "        Returns a set of all unique points in the container\n",
    "        \"\"\"\n",
    "\n",
    "        # The container corners\n",
    "        corners = [(0,0), (0,self.size[1]), (self.size[0],0), self.size]\n",
    "\n",
    "        # Get corners for every rect\n",
    "        for rect in self.packed_rects:\n",
    "            corners += [rect.corner_bot_l, rect.corner_bot_r, rect.corner_top_l, rect.corner_top_r]\n",
    "        return list(set(corners))\n",
    "\n",
    "\n",
    "    def is_successful(self) -> bool:\n",
    "        return len(self.unpacked_rects) == 0"
   ]
  },
  {
   "cell_type": "code",
   "execution_count": 13,
   "metadata": {},
   "outputs": [],
   "source": [
    "class BinPacker:\n",
    "\n",
    "    def __init__(self, configuration: Configuration) -> None:\n",
    "        self.C = configuration\n",
    "\n",
    "    def _degree(self, i:Rect, C: Configuration) -> float:\n",
    "        d_mins = [i.min_distance(m) for m in C.packed_rects]\n",
    "        \n",
    "        # Add the distances to the borders\n",
    "        d_mins += [i.bottom, i.left, C.size[1] - i.top, C.size[0] - i.right]\n",
    "\n",
    "        # Remove two smallest elements, which will be 0 - the two imediate neighbours\n",
    "        assert(min(d_mins) == 0)\n",
    "        d_mins.remove(min(d_mins))\n",
    "        assert(min(d_mins) == 0)\n",
    "        d_mins.remove(min(d_mins))\n",
    "\n",
    "        return 1 - (min(d_mins) /((i.width + i.height)/2))\n",
    "\n",
    "\n",
    "    def _A0(self, C: Configuration):\n",
    "        while C.L:\n",
    "\n",
    "            degrees = [self._degree(ccoa, C) for ccoa in C.L]\n",
    "            best = argmax(degrees)\n",
    "\n",
    "            C.place_rect(C.L[best])\n",
    "        return C\n",
    "\n",
    "\n",
    "    def _BenefitA1(self, ccoa: Rect, Cx: Configuration):\n",
    "\n",
    "        Cx.place_rect(ccoa)\n",
    "\n",
    "        Cx = self._A0(Cx)\n",
    "\n",
    "        if Cx.is_successful():\n",
    "            return Cx\n",
    "        else:\n",
    "            return Cx.density()\n",
    "\n",
    "\n",
    "    def PackConfiguration(self, C: Configuration):\n",
    "        \"\"\" The method called A1 in the paper \"\"\"\n",
    "\n",
    "        while C.L:\n",
    "            max_benefit = 0\n",
    "            max_benefit_ccoa = None\n",
    "            \n",
    "            for ccoa in C.L:\n",
    "                d = self._BenefitA1(ccoa, deepcopy(C))\n",
    "                if type(d) is Configuration:\n",
    "                    print(\"Found successful configuration\")\n",
    "                    return d\n",
    "                else:\n",
    "                    if max_benefit < d:\n",
    "                        max_benefit = d\n",
    "                        max_benefit_ccoa = ccoa\n",
    "\n",
    "            print(f\"Placed {max_benefit_ccoa}, {len(C.unpacked_rects)} rects remaining\")\n",
    "            C.place_rect(max_benefit_ccoa)\n",
    "\n",
    "        if C.is_successful():\n",
    "            print(\"Found successful configuration\")\n",
    "        else:\n",
    "            print(\"Stopped with failure\")\n",
    "            print(f\"Rects remaining: {C.unpacked_rects}\")\n",
    "        return C"
   ]
  },
  {
   "cell_type": "code",
   "execution_count": 14,
   "metadata": {},
   "outputs": [],
   "source": [
    "cat1_p1 = [(2,12),(7,12),(8,6),(3,6),(3,5),(5,5),(3,12),(3,7),(5,7),(2,6),(3,2),(4,2),(3,4),(4,4),(9,2),(11,2)]\n",
    "cat3_p1 = [(7,5),(14,5),(14,8),(4,8),(21,13),(7,11),(14,11),(14,5),(4,5),(18,3),(21,3),(17,11),(4,11),(7,4),\n",
    "           (5,4),(6,7),(18,5),(3,5),(7,3),(5,3),(18,4),(3,4),(12,2),(6,2),(18,5),(21,5),(17,3),(4,3)]\n",
    "\n",
    "def main():\n",
    "\n",
    "    # Parameters\n",
    "    rects = cat1_p1\n",
    "    plotting = False\n",
    "    container_size = (20,20)\n",
    "\n",
    "\n",
    "    C = Configuration(size=container_size, unpacked_rects=copy(rects), enable_plotting=plotting)\n",
    "    packer = BinPacker(C)\n",
    "\n",
    "    # For profiling     \n",
    "    # cProfile.run('C = packer.PackConfiguration(C)', sort=\"time\")\n",
    "    C = packer.PackConfiguration(C)\n",
    "\n",
    "    # Show final configuration\n",
    "    if not plotting:\n",
    "        initialize_plot(C, rects, 5)\n",
    "        plot_configuration(C, last_frame=True)"
   ]
  },
  {
   "cell_type": "code",
   "execution_count": 15,
   "metadata": {},
   "outputs": [
    {
     "name": "stdout",
     "output_type": "stream",
     "text": [
      "Found successful configuration\n"
     ]
    },
    {
     "data": {
      "image/png": "[encoded data removed]",
      "text/plain": [
       "<Figure size 1200x600 with 2 Axes>"
      ]
     },
     "metadata": {},
     "output_type": "display_data"
    }
   ],
   "source": [
    "main()"
   ]
  },
  {
   "cell_type": "markdown",
   "metadata": {},
   "source": [
    "## Genetic algorithms from scratch\n",
    "\n",
    "**NEED**\n",
    "- configuration to represent an individual(solution)\n",
    "- Mutation function\n",
    "- Crossover function\n",
    "- Selection\n",
    "- Fitness function"
   ]
  },
  {
   "cell_type": "code",
   "execution_count": 17,
   "metadata": {},
   "outputs": [],
   "source": [
    "BIN_WIDTH = 20\n",
    "BIN_HEIGHT = 20\n",
    "\n",
    "\n",
    "def generate_items(n):\n",
    "    return [(randrange(1,BIN_WIDTH//3), randrange(1,BIN_HEIGHT//3)) for _ in range(n)]\n",
    "\n",
    "items = [(2,12),(7,12),(8,6),(3,6),(3,5),(5,5),(3,12),(3,7),(5,7),(2,6),(3,2),(4,2),(3,4),(4,4),(9,2),(11,2)]\n",
    "#items = [(2,12),(7,12),(8,6),(3,6),(3,5),(5,5),(3,12),(3,7),(5,7),(2,6),(3,2),(4,2)]"
   ]
  },
  {
   "cell_type": "code",
   "execution_count": 18,
   "metadata": {},
   "outputs": [],
   "source": [
    "## utility functions\n",
    "def get_overlap_area(pos_a, dim_a, pos_b, dim_b):\n",
    "    overlap_x = max(0, min(pos_a[0] + dim_a[0], pos_b[0] + dim_b[0]) - max(pos_a[0], pos_b[0]))\n",
    "    overlap_y = max(0, min(pos_a[1] + dim_a[1], pos_b[1] + dim_b[1]) - max(pos_a[1], pos_b[1]))\n",
    "    return overlap_x * overlap_y"
   ]
  },
  {
   "cell_type": "code",
   "execution_count": 19,
   "metadata": {},
   "outputs": [],
   "source": [
    "def generate_genome(items):\n",
    "    candidate = []\n",
    "\n",
    "    for obj in items:\n",
    "        # Each object has x, y, width, height as decision variables\n",
    "        x = randint(0, BIN_WIDTH - obj[0])\n",
    "        y = randint(0, BIN_HEIGHT - obj[1])\n",
    "        candidate.append((x, y))\n",
    "    return candidate\n",
    "\n",
    "def generate_population(size: int, items):\n",
    "    return [generate_genome(items) for _ in range(size)]\n",
    "\n",
    "## Fitness using overlapped area (Minimization problem)\n",
    "#def fitness(genome, items): \n",
    "#    \n",
    "#    overlapped_area = 0\n",
    "#\n",
    "#    for i in range(len(items)):\n",
    "#        for j in range(i+1, len(items)):\n",
    "#            overlapped_area += get_overlap_area(genome[i],items[i], genome[j],items[j]) ## Penalty for overlap\n",
    "#    return overlapped_area\n",
    "\n",
    "## Fitness using Matrix vectorization (Maximization problem)\n",
    "def fitness(genome, items):\n",
    "    sol_space = np.zeros((BIN_WIDTH, BIN_HEIGHT), dtype=np.int32)\n",
    "\n",
    "    #for gene, item in zip(genome, items):\n",
    "    #    idx2 = BIN_HEIGHT - gene[1]\n",
    "    #    idx1 = BIN_HEIGHT - gene[1] - item[1]\n",
    "    #    sol_space[idx1:idx2, gene[0]:gene[0]+item[0]] += 1\n",
    "    for gene, item in zip(genome, items):\n",
    "        sol_space[gene[0]:gene[0]+item[0], gene[1]:gene[1]+item[1]] += 1\n",
    "\n",
    "    good_pos = np.where(sol_space == 1) ## the more space they occupy the better the fitness\n",
    "    good_fit = len(sol_space[good_pos])\n",
    "\n",
    "    bad_pos = np.where(sol_space > 1) ## penalty function for overlapped area\n",
    "    bad_fit = len(sol_space[bad_pos])\n",
    "\n",
    "    return (good_fit - bad_fit) \n",
    "\n",
    "## Selection for Minimization\n",
    "#def selection_pair(population, n_parents : int = 2):\n",
    "#    fitnesses = [fitness(genome, items) for genome in population]\n",
    "#    worst_fitness = max(fitnesses)\n",
    "#    return choices(population=population,\n",
    "#                   weights=[worst_fitness - fit for fit in fitnesses],\n",
    "#                   k=n_parents)\n",
    "\n",
    "## Selection for Maximization\n",
    "def selection_pair(population, n_parents : int = 2):\n",
    "    return choices(population=population,\n",
    "                   weights=[fitness(genome, items) for genome in population],\n",
    "                   k=n_parents)\n",
    "\n",
    "def single_point_crossover(a, b):\n",
    "    assert len(a) == len(b), 'Genomes must have the same length'\n",
    "\n",
    "    length = len(a)\n",
    "    if length < 2:\n",
    "        return a, b\n",
    "    \n",
    "    p = randint(1, length - 1)\n",
    "    return a[0:p] + b[p:], b[0:p] + a[p:]\n",
    "\n",
    "def mutation(genome, items, num: int = 1, probability: float = 0.5):\n",
    "    for _ in range(num):\n",
    "        index = randrange(len(genome))\n",
    "        if random() <= probability:\n",
    "            x = randint(0, BIN_WIDTH - items[index][0])\n",
    "            y = randint(0, BIN_HEIGHT - items[index][1])\n",
    "            genome[index] = (x, y)\n",
    "    return genome\n",
    "\n",
    "def run_evolution(pop_size=100, generation_limit: int = 100, num_mutation = 1, mutation_probability=0.5):\n",
    "    \n",
    "    fitness_limit = sum([item[0]*item[1] for item in items])\n",
    "    print('maximum fitness = ',fitness_limit)\n",
    "\n",
    "    population = generate_population(pop_size, items=items)\n",
    "\n",
    "    for i in tqdm(range(generation_limit)):\n",
    "        population = sorted(population, key=lambda genome: fitness(genome, items), reverse=True)\n",
    "        #print('gen ',i)\n",
    "        #print('best fitness: ', fitness(population[0], items))\n",
    "        #print('worst fitness: ', fitness(population[-1], items))\n",
    "        #print('\\n')\n",
    "        \n",
    "        if fitness(population[0], items) == fitness_limit:\n",
    "            print('All items can fit perfectly in the bin!')\n",
    "            break\n",
    "        \n",
    "        next_generation = population[0:2] ## Elitism\n",
    "\n",
    "        for j in range(int(len(population) /2) - 1):\n",
    "            parents = selection_pair(population)\n",
    "            offspring_a, offspring_b = single_point_crossover(parents[0], parents[1])\n",
    "            offspring_a = mutation(offspring_a, items, num=num_mutation, probability=mutation_probability)\n",
    "            offspring_b = mutation(offspring_b, items, num=num_mutation, probability=mutation_probability)\n",
    "            next_generation += [offspring_a, offspring_b]\n",
    "        \n",
    "        population = next_generation\n",
    "\n",
    "    population = sorted(population, key=lambda genome: fitness(genome, items), reverse=True)\n",
    "    best_fitness = fitness(population[0], items)\n",
    "    \n",
    "    return population, i, best_fitness"
   ]
  },
  {
   "cell_type": "code",
   "execution_count": 20,
   "metadata": {},
   "outputs": [],
   "source": [
    "## print solution\n",
    "\n",
    "# Plot settings\n",
    "figsize = (6,6)\n",
    "rect_color = 'lightblue'\n",
    "edge_color = 'black'\n",
    "alpha = 0.5\n",
    "\n",
    "def plot_configuration(configuration, items):\n",
    "    fig = plt.figure(figsize=figsize)\n",
    "    ax = fig.add_subplot(111)\n",
    "\n",
    "    # Set the ticks for the main plot\n",
    "    ax.set_xlim([0,BIN_WIDTH])\n",
    "    ax.set_ylim([0,BIN_HEIGHT])\n",
    "    ax.set_xticks(range(0, BIN_WIDTH+1, 5))\n",
    "    ax.set_yticks(range(0, BIN_HEIGHT+1, 5))\n",
    "\n",
    "    # Draw the placed rects in main plot\n",
    "    for position, item in zip(configuration, items):\n",
    "        box = Rectangle(position, item[0], item[1], fc=rect_color, ec=edge_color, alpha=alpha)\n",
    "        ax.add_patch(box)\n",
    "\n",
    "    plt.show(block=False)\n",
    "    plt.close()"
   ]
  },
  {
   "cell_type": "code",
   "execution_count": 21,
   "metadata": {},
   "outputs": [
    {
     "name": "stdout",
     "output_type": "stream",
     "text": [
      "maximum fitness =  400\n"
     ]
    },
    {
     "name": "stderr",
     "output_type": "stream",
     "text": [
      "  0%|          | 0/200 [00:00<?, ?it/s]"
     ]
    },
    {
     "name": "stderr",
     "output_type": "stream",
     "text": [
      "100%|██████████| 200/200 [00:50<00:00,  3.99it/s]"
     ]
    },
    {
     "name": "stdout",
     "output_type": "stream",
     "text": [
      "number of generations:  199\n",
      "items:  [(2, 12), (7, 12), (8, 6), (3, 6), (3, 5), (5, 5), (3, 12), (3, 7), (5, 7), (2, 6), (3, 2), (4, 2), (3, 4), (4, 4), (9, 2), (11, 2)]\n",
      "best solution:  [(18, 0), (4, 2), (12, 11), (5, 14), (0, 3), (14, 7), (11, 2), (16, 2), (0, 13), (11, 13), (4, 0), (8, 16), (17, 16), (0, 9), (9, 18), (7, 0)]\n",
      "best fitness:  279\n"
     ]
    },
    {
     "name": "stderr",
     "output_type": "stream",
     "text": [
      "\n"
     ]
    },
    {
     "data": {
      "image/png": "[encoded data removed]",
      "text/plain": [
       "<Figure size 600x600 with 1 Axes>"
      ]
     },
     "metadata": {},
     "output_type": "display_data"
    }
   ],
   "source": [
    "population, generations, fit = run_evolution(generation_limit=200, num_mutation=1, mutation_probability=0.5)\n",
    "\n",
    "print('number of generations: ', generations)\n",
    "print('items: ', items)\n",
    "print('best solution: ', population[0])\n",
    "print('best fitness: ', fit)\n",
    "plot_configuration(population[0], items)"
   ]
  },
  {
   "cell_type": "markdown",
   "metadata": {},
   "source": [
    "## 3D Bin Packing - Greed Search"
   ]
  },
  {
   "cell_type": "code",
   "execution_count": null,
   "metadata": {},
   "outputs": [],
   "source": []
  },
  {
   "cell_type": "markdown",
   "metadata": {},
   "source": [
    "## 3D Bin Packing - Genetic Algorithms"
   ]
  },
  {
   "cell_type": "code",
   "execution_count": 114,
   "metadata": {},
   "outputs": [],
   "source": [
    "BOX_WIDTH = 20\n",
    "BOX_HEIGHT = 20\n",
    "BOX_LENGTH = 20\n",
    "\n",
    "\n",
    "def generate_items_3d(n):\n",
    "    return [(randrange(1,BOX_WIDTH//3), randrange(1,BOX_HEIGHT//3), randrange(1,BOX_LENGTH//3)) for _ in range(n)]\n",
    "\n",
    "items = [(2,12,3),(7,12,4),(8,6,6),(3,6,2),(3,5,5),(5,5,3),(3,12,4),(3,7,4),(5,7,8),(2,6,9),(3,2,11),(4,2,7),(7,8,2),(10,3,8),(7,12,4),(8,6,6),(3,6,2)]"
   ]
  },
  {
   "cell_type": "code",
   "execution_count": 115,
   "metadata": {},
   "outputs": [],
   "source": [
    "def generate_genome(items):\n",
    "    candidate = []\n",
    "\n",
    "    for obj in items:\n",
    "        # Each object has x, y, width, height as decision variables\n",
    "        x = randint(0, BOX_WIDTH - obj[0])\n",
    "        y = randint(0, BOX_HEIGHT - obj[1])\n",
    "        z = randint(0, BOX_LENGTH - obj[2])\n",
    "        candidate.append((x, y, z))\n",
    "    return candidate\n",
    "\n",
    "def generate_population(size: int, items):\n",
    "    return [generate_genome(items) for _ in range(size)]\n",
    "\n",
    "\n",
    "\n",
    "## Fitness using Matrix vectorization (Maximization problem)\n",
    "def fitness(genome, items):\n",
    "    sol_space = np.zeros((BOX_WIDTH, BOX_HEIGHT, BOX_LENGTH), dtype=np.int32)\n",
    "\n",
    "    for gene, item in zip(genome, items):\n",
    "        sol_space[gene[0]:gene[0]+item[0], gene[1]:gene[1]+item[1], gene[2]:gene[2]+item[2]] += 1\n",
    "\n",
    "    good_pos = np.where(sol_space == 1) ## the more space they occupy the better the fitness\n",
    "    good_fit = len(sol_space[good_pos])\n",
    "\n",
    "    bad_pos = np.where(sol_space > 1) ## penalty function for overlapped area\n",
    "    bad_fit = len(sol_space[bad_pos])\n",
    "\n",
    "    return (good_fit - bad_fit) \n",
    "\n",
    "## Selection for Maximization\n",
    "def selection_pair(population, n_parents : int = 2):\n",
    "    return choices(population=population, weights=[fitness(genome, items) for genome in population], k=n_parents)\n",
    "\n",
    "def single_point_crossover(a, b):\n",
    "    assert len(a) == len(b), 'Genomes must have the same length'\n",
    "\n",
    "    length = len(a)\n",
    "    if length < 2:\n",
    "        return a, b\n",
    "    \n",
    "    p = randint(1, length - 1)\n",
    "    return a[0:p] + b[p:], b[0:p] + a[p:]\n",
    "\n",
    "def mutation(genome, items, num: int = 1, probability: float = 0.5):\n",
    "    for _ in range(num):\n",
    "        index = randrange(len(genome))\n",
    "        if random() <= probability:\n",
    "            x = randint(0, BOX_WIDTH - items[index][0])\n",
    "            y = randint(0, BOX_HEIGHT - items[index][1])\n",
    "            z = randint(0, BOX_LENGTH - items[index][2])\n",
    "            genome[index] = (x, y, z)\n",
    "    return genome\n",
    "\n",
    "def run_evolution(pop_size=100, generation_limit: int = 100, num_mutation = 1, mutation_probability=0.5):\n",
    "    \n",
    "    fitness_limit = sum([item[0]*item[1]*item[2] for item in items])\n",
    "    print('maximum fitness = ',fitness_limit)\n",
    "\n",
    "    population = generate_population(pop_size, items=items)\n",
    "\n",
    "    for i in tqdm(range(generation_limit)):\n",
    "        population = sorted(population, key=lambda genome: fitness(genome, items), reverse=True)\n",
    "        #print('gen ',i)\n",
    "        #print('best fitness: ', fitness(population[0], items))\n",
    "        #print('worst fitness: ', fitness(population[-1], items))\n",
    "        #print('\\n')\n",
    "        \n",
    "        if fitness(population[0], items) == fitness_limit:\n",
    "            print('All items can fit perfectly in the box!')\n",
    "            break\n",
    "        \n",
    "        next_generation = population[0:2] ## Elitism\n",
    "\n",
    "        for j in range(int(len(population) /2) - 1):\n",
    "            parents = selection_pair(population)\n",
    "            offspring_a, offspring_b = single_point_crossover(parents[0], parents[1])\n",
    "            offspring_a = mutation(offspring_a, items, num=num_mutation, probability=mutation_probability)\n",
    "            offspring_b = mutation(offspring_b, items, num=num_mutation, probability=mutation_probability)\n",
    "            next_generation += [offspring_a, offspring_b]\n",
    "        \n",
    "        population = next_generation\n",
    "\n",
    "    population = sorted(population, key=lambda genome: fitness(genome, items), reverse=True)\n",
    "    best_fitness = fitness(population[0], items)\n",
    "    \n",
    "    return population, i, best_fitness"
   ]
  },
  {
   "cell_type": "code",
   "execution_count": 126,
   "metadata": {},
   "outputs": [],
   "source": [
    "from mpl_toolkits.mplot3d import Axes3D\n",
    "\n",
    "# Plot settings\n",
    "figsize = (6,6)\n",
    "rect_color = 'lightblue'\n",
    "edge_color = 'black'\n",
    "alpha = 0.8\n",
    "\n",
    "def plot_boxes(ax, boxes_pos, boxes_dim):\n",
    "    for pos, dim in zip(boxes_pos, boxes_dim):\n",
    "        x, y, z = pos\n",
    "        dx, dy, dz = dim\n",
    "        ax.bar3d(x, y, z, dx, dy, dz, shade=True, color='lightblue', edgecolors=edge_color, alpha=alpha)\n",
    "        \n",
    "## Plot configuration\n",
    "def plot_configuration_3d(configuration, items):\n",
    "\n",
    "\n",
    "    # Create the 3D plot\n",
    "    fig = plt.figure()\n",
    "    ax = fig.add_subplot(111, projection='3d')\n",
    "\n",
    "    # Set plot limits\n",
    "    ax.set_xlim([0, BOX_WIDTH])\n",
    "    ax.set_ylim([0, BOX_HEIGHT])\n",
    "    ax.set_zlim([0, BOX_LENGTH])\n",
    "\n",
    "    # Plot the boxes\n",
    "    plot_boxes(ax, configuration, items)\n",
    "\n",
    "    # Set labels\n",
    "    ax.set_xlabel('X-axis')\n",
    "    ax.set_ylabel('Y-axis')\n",
    "    ax.set_zlabel('Z-axis')\n",
    "    ax.set_title('3D Bin Packing Solution')\n",
    "\n",
    "    # Show the plot\n",
    "    plt.show()"
   ]
  },
  {
   "cell_type": "code",
   "execution_count": 131,
   "metadata": {},
   "outputs": [
    {
     "name": "stdout",
     "output_type": "stream",
     "text": [
      "maximum fitness =  2632\n"
     ]
    },
    {
     "name": "stderr",
     "output_type": "stream",
     "text": [
      " 58%|█████▊    | 117/200 [05:04<03:35,  2.60s/it]\n"
     ]
    },
    {
     "name": "stdout",
     "output_type": "stream",
     "text": [
      "All items can fit perfectly in the box!\n",
      "number of generations:  117\n",
      "items:  [(2, 12, 3), (7, 12, 4), (8, 6, 6), (3, 6, 2), (3, 5, 5), (5, 5, 3), (3, 12, 4), (3, 7, 4), (5, 7, 8), (2, 6, 9), (3, 2, 11), (4, 2, 7), (7, 8, 2), (10, 3, 8), (7, 12, 4), (8, 6, 6), (3, 6, 2)]\n",
      "best solution:  [(7, 0, 0), (6, 1, 11), (12, 13, 8), (9, 12, 9), (4, 1, 3), (12, 1, 17), (16, 8, 1), (1, 0, 9), (0, 13, 8), (18, 6, 6), (5, 16, 8), (16, 2, 8), (2, 8, 18), (6, 8, 3), (11, 8, 15), (1, 14, 0), (10, 1, 0)]\n",
      "best fitness:  2632\n"
     ]
    },
    {
     "data": {
      "image/png": "[encoded data removed]",
      "text/plain": [
       "<Figure size 640x480 with 1 Axes>"
      ]
     },
     "metadata": {},
     "output_type": "display_data"
    }
   ],
   "source": [
    "population, generations, fit = run_evolution(pop_size=200, generation_limit=200, num_mutation=1, mutation_probability=0.5)\n",
    "\n",
    "print('number of generations: ', generations)\n",
    "print('items: ', items)\n",
    "print('best solution: ', population[0])\n",
    "print('best fitness: ', fit)\n",
    "plot_configuration_3d(population[0], items)"
   ]
  },
  {
   "cell_type": "code",
   "execution_count": 128,
   "metadata": {},
   "outputs": [],
   "source": [
    "import plotly.graph_objects as go\n",
    "\n",
    "def plot_boxes_interactive(fig, boxes_pos, boxes_dim):\n",
    "    for pos, dim in zip(boxes_pos, boxes_dim):\n",
    "        x, y, z = pos\n",
    "        dx, dy, dz = dim\n",
    "\n",
    "        #colors = [\"#\"+''.join([choice('0123456789ABCDEF') for j in range(6)]) for i in range(2)]\n",
    "        color = \"#\"+''.join([choice('0123456789ABCDEF') for j in range(6)])\n",
    "        \n",
    "        fig.add_trace(go.Mesh3d(x=[x, x, x+dx, x+dx, x, x, x+dx, x+dx],\n",
    "                                y=[y, y+dy, y+dy, y, y, y+dy, y+dy, y],\n",
    "                                z=[z, z, z, z, z+dz, z+dz, z+dz, z+dz],\n",
    "                                #colorscale=[[0, colors[0]],[1, colors[1]]],\n",
    "                                # Intensity of each vertex, which will be interpolated and color-coded\n",
    "                                #intensity = np.linspace(0, 1, 8, endpoint=True),\n",
    "                                # i, j and k give the vertices of triangles\n",
    "                                i = [7, 0, 0, 0, 4, 4, 6, 6, 4, 0, 3, 2],\n",
    "                                j = [3, 4, 1, 2, 5, 6, 5, 2, 0, 1, 6, 3],\n",
    "                                k = [0, 7, 2, 3, 6, 7, 1, 1, 5, 5, 7, 6],\n",
    "                                name='y',\n",
    "                                showscale=False,\n",
    "                                opacity=0.8,\n",
    "                                color=color,\n",
    "                                flatshading=True                          \n",
    "                                ))\n",
    "        \n",
    "def plot_configuration_3d_interactive(configuration, items):\n",
    "\n",
    "    # Create the interactive 3D plot\n",
    "    fig = go.Figure()\n",
    "\n",
    "    # Plot the boxes\n",
    "    plot_boxes_interactive(fig, configuration, items)\n",
    "\n",
    "    # Set layout\n",
    "    fig.update_layout(scene=dict(aspectmode=\"cube\",\n",
    "                                 xaxis=dict(range=[0, BOX_WIDTH]),\n",
    "                                 yaxis=dict(range=[0, BOX_HEIGHT]),\n",
    "                                 zaxis=dict(range=[0, BOX_LENGTH]),\n",
    "                                 aspectratio=dict(x=1, y=1, z=1)))\n",
    "\n",
    "    # Show the interactive plot\n",
    "    fig.show()"
   ]
  },
  {
   "cell_type": "code",
   "execution_count": 130,
   "metadata": {},
   "outputs": [
    {
     "data": {
      "application/vnd.plotly.v1+json": {
       "config": {
        "plotlyServerURL": "https://plot.ly"
       },
       "data": [
        {
         "color": "#EAEDCB",
         "flatshading": true,
         "i": [
          7,
          0,
          0,
          0,
          4,
          4,
          6,
          6,
          4,
          0,
          3,
          2
         ],
         "j": [
          3,
          4,
          1,
          2,
          5,
          6,
          5,
          2,
          0,
          1,
          6,
          3
         ],
         "k": [
          0,
          7,
          2,
          3,
          6,
          7,
          1,
          1,
          5,
          5,
          7,
          6
         ],
         "name": "y",
         "opacity": 0.8,
         "showscale": false,
         "type": "mesh3d",
         "x": [
          18,
          18,
          20,
          20,
          18,
          18,
          20,
          20
         ],
         "y": [
          3,
          15,
          15,
          3,
          3,
          15,
          15,
          3
         ],
         "z": [
          6,
          6,
          6,
          6,
          9,
          9,
          9,
          9
         ]
        },
        {
         "color": "#CFDF46",
         "flatshading": true,
         "i": [
          7,
          0,
          0,
          0,
          4,
          4,
          6,
          6,
          4,
          0,
          3,
          2
         ],
         "j": [
          3,
          4,
          1,
          2,
          5,
          6,
          5,
          2,
          0,
          1,
          6,
          3
         ],
         "k": [
          0,
          7,
          2,
          3,
          6,
          7,
          1,
          1,
          5,
          5,
          7,
          6
         ],
         "name": "y",
         "opacity": 0.8,
         "showscale": false,
         "type": "mesh3d",
         "x": [
          11,
          11,
          18,
          18,
          11,
          11,
          18,
          18
         ],
         "y": [
          0,
          12,
          12,
          0,
          0,
          12,
          12,
          0
         ],
         "z": [
          0,
          0,
          0,
          0,
          4,
          4,
          4,
          4
         ]
        },
        {
         "color": "#05E0FE",
         "flatshading": true,
         "i": [
          7,
          0,
          0,
          0,
          4,
          4,
          6,
          6,
          4,
          0,
          3,
          2
         ],
         "j": [
          3,
          4,
          1,
          2,
          5,
          6,
          5,
          2,
          0,
          1,
          6,
          3
         ],
         "k": [
          0,
          7,
          2,
          3,
          6,
          7,
          1,
          1,
          5,
          5,
          7,
          6
         ],
         "name": "y",
         "opacity": 0.8,
         "showscale": false,
         "type": "mesh3d",
         "x": [
          11,
          11,
          19,
          19,
          11,
          11,
          19,
          19
         ],
         "y": [
          12,
          18,
          18,
          12,
          12,
          18,
          18,
          12
         ],
         "z": [
          0,
          0,
          0,
          0,
          6,
          6,
          6,
          6
         ]
        },
        {
         "color": "#5D1082",
         "flatshading": true,
         "i": [
          7,
          0,
          0,
          0,
          4,
          4,
          6,
          6,
          4,
          0,
          3,
          2
         ],
         "j": [
          3,
          4,
          1,
          2,
          5,
          6,
          5,
          2,
          0,
          1,
          6,
          3
         ],
         "k": [
          0,
          7,
          2,
          3,
          6,
          7,
          1,
          1,
          5,
          5,
          7,
          6
         ],
         "name": "y",
         "opacity": 0.8,
         "showscale": false,
         "type": "mesh3d",
         "x": [
          9,
          9,
          12,
          12,
          9,
          9,
          12,
          12
         ],
         "y": [
          12,
          18,
          18,
          12,
          12,
          18,
          18,
          12
         ],
         "z": [
          14,
          14,
          14,
          14,
          16,
          16,
          16,
          16
         ]
        },
        {
         "color": "#604D53",
         "flatshading": true,
         "i": [
          7,
          0,
          0,
          0,
          4,
          4,
          6,
          6,
          4,
          0,
          3,
          2
         ],
         "j": [
          3,
          4,
          1,
          2,
          5,
          6,
          5,
          2,
          0,
          1,
          6,
          3
         ],
         "k": [
          0,
          7,
          2,
          3,
          6,
          7,
          1,
          1,
          5,
          5,
          7,
          6
         ],
         "name": "y",
         "opacity": 0.8,
         "showscale": false,
         "type": "mesh3d",
         "x": [
          8,
          8,
          11,
          11,
          8,
          8,
          11,
          11
         ],
         "y": [
          0,
          5,
          5,
          0,
          0,
          5,
          5,
          0
         ],
         "z": [
          7,
          7,
          7,
          7,
          12,
          12,
          12,
          12
         ]
        },
        {
         "color": "#09D86E",
         "flatshading": true,
         "i": [
          7,
          0,
          0,
          0,
          4,
          4,
          6,
          6,
          4,
          0,
          3,
          2
         ],
         "j": [
          3,
          4,
          1,
          2,
          5,
          6,
          5,
          2,
          0,
          1,
          6,
          3
         ],
         "k": [
          0,
          7,
          2,
          3,
          6,
          7,
          1,
          1,
          5,
          5,
          7,
          6
         ],
         "name": "y",
         "opacity": 0.8,
         "showscale": false,
         "type": "mesh3d",
         "x": [
          0,
          0,
          5,
          5,
          0,
          0,
          5,
          5
         ],
         "y": [
          0,
          5,
          5,
          0,
          0,
          5,
          5,
          0
         ],
         "z": [
          0,
          0,
          0,
          0,
          3,
          3,
          3,
          3
         ]
        },
        {
         "color": "#3C0B59",
         "flatshading": true,
         "i": [
          7,
          0,
          0,
          0,
          4,
          4,
          6,
          6,
          4,
          0,
          3,
          2
         ],
         "j": [
          3,
          4,
          1,
          2,
          5,
          6,
          5,
          2,
          0,
          1,
          6,
          3
         ],
         "k": [
          0,
          7,
          2,
          3,
          6,
          7,
          1,
          1,
          5,
          5,
          7,
          6
         ],
         "name": "y",
         "opacity": 0.8,
         "showscale": false,
         "type": "mesh3d",
         "x": [
          0,
          0,
          3,
          3,
          0,
          0,
          3,
          3
         ],
         "y": [
          5,
          17,
          17,
          5,
          5,
          17,
          17,
          5
         ],
         "z": [
          1,
          1,
          1,
          1,
          5,
          5,
          5,
          5
         ]
        },
        {
         "color": "#289AAB",
         "flatshading": true,
         "i": [
          7,
          0,
          0,
          0,
          4,
          4,
          6,
          6,
          4,
          0,
          3,
          2
         ],
         "j": [
          3,
          4,
          1,
          2,
          5,
          6,
          5,
          2,
          0,
          1,
          6,
          3
         ],
         "k": [
          0,
          7,
          2,
          3,
          6,
          7,
          1,
          1,
          5,
          5,
          7,
          6
         ],
         "name": "y",
         "opacity": 0.8,
         "showscale": false,
         "type": "mesh3d",
         "x": [
          10,
          10,
          13,
          13,
          10,
          10,
          13,
          13
         ],
         "y": [
          12,
          19,
          19,
          12,
          12,
          19,
          19,
          12
         ],
         "z": [
          10,
          10,
          10,
          10,
          14,
          14,
          14,
          14
         ]
        },
        {
         "color": "#0BAD68",
         "flatshading": true,
         "i": [
          7,
          0,
          0,
          0,
          4,
          4,
          6,
          6,
          4,
          0,
          3,
          2
         ],
         "j": [
          3,
          4,
          1,
          2,
          5,
          6,
          5,
          2,
          0,
          1,
          6,
          3
         ],
         "k": [
          0,
          7,
          2,
          3,
          6,
          7,
          1,
          1,
          5,
          5,
          7,
          6
         ],
         "name": "y",
         "opacity": 0.8,
         "showscale": false,
         "type": "mesh3d",
         "x": [
          4,
          4,
          9,
          9,
          4,
          4,
          9,
          9
         ],
         "y": [
          7,
          14,
          14,
          7,
          7,
          14,
          14,
          7
         ],
         "z": [
          6,
          6,
          6,
          6,
          14,
          14,
          14,
          14
         ]
        },
        {
         "color": "#7F1456",
         "flatshading": true,
         "i": [
          7,
          0,
          0,
          0,
          4,
          4,
          6,
          6,
          4,
          0,
          3,
          2
         ],
         "j": [
          3,
          4,
          1,
          2,
          5,
          6,
          5,
          2,
          0,
          1,
          6,
          3
         ],
         "k": [
          0,
          7,
          2,
          3,
          6,
          7,
          1,
          1,
          5,
          5,
          7,
          6
         ],
         "name": "y",
         "opacity": 0.8,
         "showscale": false,
         "type": "mesh3d",
         "x": [
          2,
          2,
          4,
          4,
          2,
          2,
          4,
          4
         ],
         "y": [
          9,
          15,
          15,
          9,
          9,
          15,
          15,
          9
         ],
         "z": [
          4,
          4,
          4,
          4,
          13,
          13,
          13,
          13
         ]
        },
        {
         "color": "#8D8173",
         "flatshading": true,
         "i": [
          7,
          0,
          0,
          0,
          4,
          4,
          6,
          6,
          4,
          0,
          3,
          2
         ],
         "j": [
          3,
          4,
          1,
          2,
          5,
          6,
          5,
          2,
          0,
          1,
          6,
          3
         ],
         "k": [
          0,
          7,
          2,
          3,
          6,
          7,
          1,
          1,
          5,
          5,
          7,
          6
         ],
         "name": "y",
         "opacity": 0.8,
         "showscale": false,
         "type": "mesh3d",
         "x": [
          0,
          0,
          3,
          3,
          0,
          0,
          3,
          3
         ],
         "y": [
          16,
          18,
          18,
          16,
          16,
          18,
          18,
          16
         ],
         "z": [
          8,
          8,
          8,
          8,
          19,
          19,
          19,
          19
         ]
        },
        {
         "color": "#00C6DB",
         "flatshading": true,
         "i": [
          7,
          0,
          0,
          0,
          4,
          4,
          6,
          6,
          4,
          0,
          3,
          2
         ],
         "j": [
          3,
          4,
          1,
          2,
          5,
          6,
          5,
          2,
          0,
          1,
          6,
          3
         ],
         "k": [
          0,
          7,
          2,
          3,
          6,
          7,
          1,
          1,
          5,
          5,
          7,
          6
         ],
         "name": "y",
         "opacity": 0.8,
         "showscale": false,
         "type": "mesh3d",
         "x": [
          15,
          15,
          19,
          19,
          15,
          15,
          19,
          19
         ],
         "y": [
          1,
          3,
          3,
          1,
          1,
          3,
          3,
          1
         ],
         "z": [
          10,
          10,
          10,
          10,
          17,
          17,
          17,
          17
         ]
        },
        {
         "color": "#382759",
         "flatshading": true,
         "i": [
          7,
          0,
          0,
          0,
          4,
          4,
          6,
          6,
          4,
          0,
          3,
          2
         ],
         "j": [
          3,
          4,
          1,
          2,
          5,
          6,
          5,
          2,
          0,
          1,
          6,
          3
         ],
         "k": [
          0,
          7,
          2,
          3,
          6,
          7,
          1,
          1,
          5,
          5,
          7,
          6
         ],
         "name": "y",
         "opacity": 0.8,
         "showscale": false,
         "type": "mesh3d",
         "x": [
          3,
          3,
          10,
          10,
          3,
          3,
          10,
          10
         ],
         "y": [
          9,
          17,
          17,
          9,
          9,
          17,
          17,
          9
         ],
         "z": [
          3,
          3,
          3,
          3,
          5,
          5,
          5,
          5
         ]
        },
        {
         "color": "#C51525",
         "flatshading": true,
         "i": [
          7,
          0,
          0,
          0,
          4,
          4,
          6,
          6,
          4,
          0,
          3,
          2
         ],
         "j": [
          3,
          4,
          1,
          2,
          5,
          6,
          5,
          2,
          0,
          1,
          6,
          3
         ],
         "k": [
          0,
          7,
          2,
          3,
          6,
          7,
          1,
          1,
          5,
          5,
          7,
          6
         ],
         "name": "y",
         "opacity": 0.8,
         "showscale": false,
         "type": "mesh3d",
         "x": [
          4,
          4,
          14,
          14,
          4,
          4,
          14,
          14
         ],
         "y": [
          17,
          20,
          20,
          17,
          17,
          20,
          20,
          17
         ],
         "z": [
          3,
          3,
          3,
          3,
          11,
          11,
          11,
          11
         ]
        },
        {
         "color": "#8D97B1",
         "flatshading": true,
         "i": [
          7,
          0,
          0,
          0,
          4,
          4,
          6,
          6,
          4,
          0,
          3,
          2
         ],
         "j": [
          3,
          4,
          1,
          2,
          5,
          6,
          5,
          2,
          0,
          1,
          6,
          3
         ],
         "k": [
          0,
          7,
          2,
          3,
          6,
          7,
          1,
          1,
          5,
          5,
          7,
          6
         ],
         "name": "y",
         "opacity": 0.8,
         "showscale": false,
         "type": "mesh3d",
         "x": [
          12,
          12,
          19,
          19,
          12,
          12,
          19,
          19
         ],
         "y": [
          4,
          16,
          16,
          4,
          4,
          16,
          16,
          4
         ],
         "z": [
          15,
          15,
          15,
          15,
          19,
          19,
          19,
          19
         ]
        },
        {
         "color": "#B02216",
         "flatshading": true,
         "i": [
          7,
          0,
          0,
          0,
          4,
          4,
          6,
          6,
          4,
          0,
          3,
          2
         ],
         "j": [
          3,
          4,
          1,
          2,
          5,
          6,
          5,
          2,
          0,
          1,
          6,
          3
         ],
         "k": [
          0,
          7,
          2,
          3,
          6,
          7,
          1,
          1,
          5,
          5,
          7,
          6
         ],
         "name": "y",
         "opacity": 0.8,
         "showscale": false,
         "type": "mesh3d",
         "x": [
          10,
          10,
          18,
          18,
          10,
          10,
          18,
          18
         ],
         "y": [
          6,
          12,
          12,
          6,
          6,
          12,
          12,
          6
         ],
         "z": [
          8,
          8,
          8,
          8,
          14,
          14,
          14,
          14
         ]
        },
        {
         "color": "#619E0F",
         "flatshading": true,
         "i": [
          7,
          0,
          0,
          0,
          4,
          4,
          6,
          6,
          4,
          0,
          3,
          2
         ],
         "j": [
          3,
          4,
          1,
          2,
          5,
          6,
          5,
          2,
          0,
          1,
          6,
          3
         ],
         "k": [
          0,
          7,
          2,
          3,
          6,
          7,
          1,
          1,
          5,
          5,
          7,
          6
         ],
         "name": "y",
         "opacity": 0.8,
         "showscale": false,
         "type": "mesh3d",
         "x": [
          0,
          0,
          3,
          3,
          0,
          0,
          3,
          3
         ],
         "y": [
          0,
          6,
          6,
          0,
          0,
          6,
          6,
          0
         ],
         "z": [
          12,
          12,
          12,
          12,
          14,
          14,
          14,
          14
         ]
        }
       ],
       "layout": {
        "scene": {
         "aspectmode": "cube",
         "aspectratio": {
          "x": 1,
          "y": 1,
          "z": 1
         },
         "xaxis": {
          "range": [
           0,
           20
          ]
         },
         "yaxis": {
          "range": [
           0,
           20
          ]
         },
         "zaxis": {
          "range": [
           0,
           20
          ]
         }
        },
        "template": {
         "data": {
          "bar": [
           {
            "error_x": {
             "color": "#2a3f5f"
            },
            "error_y": {
             "color": "#2a3f5f"
            },
            "marker": {
             "line": {
              "color": "#E5ECF6",
              "width": 0.5
             },
             "pattern": {
              "fillmode": "overlay",
              "size": 10,
              "solidity": 0.2
             }
            },
            "type": "bar"
           }
          ],
          "barpolar": [
           {
            "marker": {
             "line": {
              "color": "#E5ECF6",
              "width": 0.5
             },
             "pattern": {
              "fillmode": "overlay",
              "size": 10,
              "solidity": 0.2
             }
            },
            "type": "barpolar"
           }
          ],
          "carpet": [
           {
            "aaxis": {
             "endlinecolor": "#2a3f5f",
             "gridcolor": "white",
             "linecolor": "white",
             "minorgridcolor": "white",
             "startlinecolor": "#2a3f5f"
            },
            "baxis": {
             "endlinecolor": "#2a3f5f",
             "gridcolor": "white",
             "linecolor": "white",
             "minorgridcolor": "white",
             "startlinecolor": "#2a3f5f"
            },
            "type": "carpet"
           }
          ],
          "choropleth": [
           {
            "colorbar": {
             "outlinewidth": 0,
             "ticks": ""
            },
            "type": "choropleth"
           }
          ],
          "contour": [
           {
            "colorbar": {
             "outlinewidth": 0,
             "ticks": ""
            },
            "colorscale": [
             [
              0,
              "#0d0887"
             ],
             [
              0.1111111111111111,
              "#46039f"
             ],
             [
              0.2222222222222222,
              "#7201a8"
             ],
             [
              0.3333333333333333,
              "#9c179e"
             ],
             [
              0.4444444444444444,
              "#bd3786"
             ],
             [
              0.5555555555555556,
              "#d8576b"
             ],
             [
              0.6666666666666666,
              "#ed7953"
             ],
             [
              0.7777777777777778,
              "#fb9f3a"
             ],
             [
              0.8888888888888888,
              "#fdca26"
             ],
             [
              1,
              "#f0f921"
             ]
            ],
            "type": "contour"
           }
          ],
          "contourcarpet": [
           {
            "colorbar": {
             "outlinewidth": 0,
             "ticks": ""
            },
            "type": "contourcarpet"
           }
          ],
          "heatmap": [
           {
            "colorbar": {
             "outlinewidth": 0,
             "ticks": ""
            },
            "colorscale": [
             [
              0,
              "#0d0887"
             ],
             [
              0.1111111111111111,
              "#46039f"
             ],
             [
              0.2222222222222222,
              "#7201a8"
             ],
             [
              0.3333333333333333,
              "#9c179e"
             ],
             [
              0.4444444444444444,
              "#bd3786"
             ],
             [
              0.5555555555555556,
              "#d8576b"
             ],
             [
              0.6666666666666666,
              "#ed7953"
             ],
             [
              0.7777777777777778,
              "#fb9f3a"
             ],
             [
              0.8888888888888888,
              "#fdca26"
             ],
             [
              1,
              "#f0f921"
             ]
            ],
            "type": "heatmap"
           }
          ],
          "heatmapgl": [
           {
            "colorbar": {
             "outlinewidth": 0,
             "ticks": ""
            },
            "colorscale": [
             [
              0,
              "#0d0887"
             ],
             [
              0.1111111111111111,
              "#46039f"
             ],
             [
              0.2222222222222222,
              "#7201a8"
             ],
             [
              0.3333333333333333,
              "#9c179e"
             ],
             [
              0.4444444444444444,
              "#bd3786"
             ],
             [
              0.5555555555555556,
              "#d8576b"
             ],
             [
              0.6666666666666666,
              "#ed7953"
             ],
             [
              0.7777777777777778,
              "#fb9f3a"
             ],
             [
              0.8888888888888888,
              "#fdca26"
             ],
             [
              1,
              "#f0f921"
             ]
            ],
            "type": "heatmapgl"
           }
          ],
          "histogram": [
           {
            "marker": {
             "pattern": {
              "fillmode": "overlay",
              "size": 10,
              "solidity": 0.2
             }
            },
            "type": "histogram"
           }
          ],
          "histogram2d": [
           {
            "colorbar": {
             "outlinewidth": 0,
             "ticks": ""
            },
            "colorscale": [
             [
              0,
              "#0d0887"
             ],
             [
              0.1111111111111111,
              "#46039f"
             ],
             [
              0.2222222222222222,
              "#7201a8"
             ],
             [
              0.3333333333333333,
              "#9c179e"
             ],
             [
              0.4444444444444444,
              "#bd3786"
             ],
             [
              0.5555555555555556,
              "#d8576b"
             ],
             [
              0.6666666666666666,
              "#ed7953"
             ],
             [
              0.7777777777777778,
              "#fb9f3a"
             ],
             [
              0.8888888888888888,
              "#fdca26"
             ],
             [
              1,
              "#f0f921"
             ]
            ],
            "type": "histogram2d"
           }
          ],
          "histogram2dcontour": [
           {
            "colorbar": {
             "outlinewidth": 0,
             "ticks": ""
            },
            "colorscale": [
             [
              0,
              "#0d0887"
             ],
             [
              0.1111111111111111,
              "#46039f"
             ],
             [
              0.2222222222222222,
              "#7201a8"
             ],
             [
              0.3333333333333333,
              "#9c179e"
             ],
             [
              0.4444444444444444,
              "#bd3786"
             ],
             [
              0.5555555555555556,
              "#d8576b"
             ],
             [
              0.6666666666666666,
              "#ed7953"
             ],
             [
              0.7777777777777778,
              "#fb9f3a"
             ],
             [
              0.8888888888888888,
              "#fdca26"
             ],
             [
              1,
              "#f0f921"
             ]
            ],
            "type": "histogram2dcontour"
           }
          ],
          "mesh3d": [
           {
            "colorbar": {
             "outlinewidth": 0,
             "ticks": ""
            },
            "type": "mesh3d"
           }
          ],
          "parcoords": [
           {
            "line": {
             "colorbar": {
              "outlinewidth": 0,
              "ticks": ""
             }
            },
            "type": "parcoords"
           }
          ],
          "pie": [
           {
            "automargin": true,
            "type": "pie"
           }
          ],
          "scatter": [
           {
            "fillpattern": {
             "fillmode": "overlay",
             "size": 10,
             "solidity": 0.2
            },
            "type": "scatter"
           }
          ],
          "scatter3d": [
           {
            "line": {
             "colorbar": {
              "outlinewidth": 0,
              "ticks": ""
             }
            },
            "marker": {
             "colorbar": {
              "outlinewidth": 0,
              "ticks": ""
             }
            },
            "type": "scatter3d"
           }
          ],
          "scattercarpet": [
           {
            "marker": {
             "colorbar": {
              "outlinewidth": 0,
              "ticks": ""
             }
            },
            "type": "scattercarpet"
           }
          ],
          "scattergeo": [
           {
            "marker": {
             "colorbar": {
              "outlinewidth": 0,
              "ticks": ""
             }
            },
            "type": "scattergeo"
           }
          ],
          "scattergl": [
           {
            "marker": {
             "colorbar": {
              "outlinewidth": 0,
              "ticks": ""
             }
            },
            "type": "scattergl"
           }
          ],
          "scattermapbox": [
           {
            "marker": {
             "colorbar": {
              "outlinewidth": 0,
              "ticks": ""
             }
            },
            "type": "scattermapbox"
           }
          ],
          "scatterpolar": [
           {
            "marker": {
             "colorbar": {
              "outlinewidth": 0,
              "ticks": ""
             }
            },
            "type": "scatterpolar"
           }
          ],
          "scatterpolargl": [
           {
            "marker": {
             "colorbar": {
              "outlinewidth": 0,
              "ticks": ""
             }
            },
            "type": "scatterpolargl"
           }
          ],
          "scatterternary": [
           {
            "marker": {
             "colorbar": {
              "outlinewidth": 0,
              "ticks": ""
             }
            },
            "type": "scatterternary"
           }
          ],
          "surface": [
           {
            "colorbar": {
             "outlinewidth": 0,
             "ticks": ""
            },
            "colorscale": [
             [
              0,
              "#0d0887"
             ],
             [
              0.1111111111111111,
              "#46039f"
             ],
             [
              0.2222222222222222,
              "#7201a8"
             ],
             [
              0.3333333333333333,
              "#9c179e"
             ],
             [
              0.4444444444444444,
              "#bd3786"
             ],
             [
              0.5555555555555556,
              "#d8576b"
             ],
             [
              0.6666666666666666,
              "#ed7953"
             ],
             [
              0.7777777777777778,
              "#fb9f3a"
             ],
             [
              0.8888888888888888,
              "#fdca26"
             ],
             [
              1,
              "#f0f921"
             ]
            ],
            "type": "surface"
           }
          ],
          "table": [
           {
            "cells": {
             "fill": {
              "color": "#EBF0F8"
             },
             "line": {
              "color": "white"
             }
            },
            "header": {
             "fill": {
              "color": "#C8D4E3"
             },
             "line": {
              "color": "white"
             }
            },
            "type": "table"
           }
          ]
         },
         "layout": {
          "annotationdefaults": {
           "arrowcolor": "#2a3f5f",
           "arrowhead": 0,
           "arrowwidth": 1
          },
          "autotypenumbers": "strict",
          "coloraxis": {
           "colorbar": {
            "outlinewidth": 0,
            "ticks": ""
           }
          },
          "colorscale": {
           "diverging": [
            [
             0,
             "#8e0152"
            ],
            [
             0.1,
             "#c51b7d"
            ],
            [
             0.2,
             "#de77ae"
            ],
            [
             0.3,
             "#f1b6da"
            ],
            [
             0.4,
             "#fde0ef"
            ],
            [
             0.5,
             "#f7f7f7"
            ],
            [
             0.6,
             "#e6f5d0"
            ],
            [
             0.7,
             "#b8e186"
            ],
            [
             0.8,
             "#7fbc41"
            ],
            [
             0.9,
             "#4d9221"
            ],
            [
             1,
             "#276419"
            ]
           ],
           "sequential": [
            [
             0,
             "#0d0887"
            ],
            [
             0.1111111111111111,
             "#46039f"
            ],
            [
             0.2222222222222222,
             "#7201a8"
            ],
            [
             0.3333333333333333,
             "#9c179e"
            ],
            [
             0.4444444444444444,
             "#bd3786"
            ],
            [
             0.5555555555555556,
             "#d8576b"
            ],
            [
             0.6666666666666666,
             "#ed7953"
            ],
            [
             0.7777777777777778,
             "#fb9f3a"
            ],
            [
             0.8888888888888888,
             "#fdca26"
            ],
            [
             1,
             "#f0f921"
            ]
           ],
           "sequentialminus": [
            [
             0,
             "#0d0887"
            ],
            [
             0.1111111111111111,
             "#46039f"
            ],
            [
             0.2222222222222222,
             "#7201a8"
            ],
            [
             0.3333333333333333,
             "#9c179e"
            ],
            [
             0.4444444444444444,
             "#bd3786"
            ],
            [
             0.5555555555555556,
             "#d8576b"
            ],
            [
             0.6666666666666666,
             "#ed7953"
            ],
            [
             0.7777777777777778,
             "#fb9f3a"
            ],
            [
             0.8888888888888888,
             "#fdca26"
            ],
            [
             1,
             "#f0f921"
            ]
           ]
          },
          "colorway": [
           "#636efa",
           "#EF553B",
           "#00cc96",
           "#ab63fa",
           "#FFA15A",
           "#19d3f3",
           "#FF6692",
           "#B6E880",
           "#FF97FF",
           "#FECB52"
          ],
          "font": {
           "color": "#2a3f5f"
          },
          "geo": {
           "bgcolor": "white",
           "lakecolor": "white",
           "landcolor": "#E5ECF6",
           "showlakes": true,
           "showland": true,
           "subunitcolor": "white"
          },
          "hoverlabel": {
           "align": "left"
          },
          "hovermode": "closest",
          "mapbox": {
           "style": "light"
          },
          "paper_bgcolor": "white",
          "plot_bgcolor": "#E5ECF6",
          "polar": {
           "angularaxis": {
            "gridcolor": "white",
            "linecolor": "white",
            "ticks": ""
           },
           "bgcolor": "#E5ECF6",
           "radialaxis": {
            "gridcolor": "white",
            "linecolor": "white",
            "ticks": ""
           }
          },
          "scene": {
           "xaxis": {
            "backgroundcolor": "#E5ECF6",
            "gridcolor": "white",
            "gridwidth": 2,
            "linecolor": "white",
            "showbackground": true,
            "ticks": "",
            "zerolinecolor": "white"
           },
           "yaxis": {
            "backgroundcolor": "#E5ECF6",
            "gridcolor": "white",
            "gridwidth": 2,
            "linecolor": "white",
            "showbackground": true,
            "ticks": "",
            "zerolinecolor": "white"
           },
           "zaxis": {
            "backgroundcolor": "#E5ECF6",
            "gridcolor": "white",
            "gridwidth": 2,
            "linecolor": "white",
            "showbackground": true,
            "ticks": "",
            "zerolinecolor": "white"
           }
          },
          "shapedefaults": {
           "line": {
            "color": "#2a3f5f"
           }
          },
          "ternary": {
           "aaxis": {
            "gridcolor": "white",
            "linecolor": "white",
            "ticks": ""
           },
           "baxis": {
            "gridcolor": "white",
            "linecolor": "white",
            "ticks": ""
           },
           "bgcolor": "#E5ECF6",
           "caxis": {
            "gridcolor": "white",
            "linecolor": "white",
            "ticks": ""
           }
          },
          "title": {
           "x": 0.05
          },
          "xaxis": {
           "automargin": true,
           "gridcolor": "white",
           "linecolor": "white",
           "ticks": "",
           "title": {
            "standoff": 15
           },
           "zerolinecolor": "white",
           "zerolinewidth": 2
          },
          "yaxis": {
           "automargin": true,
           "gridcolor": "white",
           "linecolor": "white",
           "ticks": "",
           "title": {
            "standoff": 15
           },
           "zerolinecolor": "white",
           "zerolinewidth": 2
          }
         }
        }
       }
      }
     },
     "metadata": {},
     "output_type": "display_data"
    }
   ],
   "source": [
    "plot_configuration_3d_interactive(population[0], items)"
   ]
  },
  {
   "cell_type": "markdown",
   "metadata": {},
   "source": [
    "## 3D Bin Packing Problem - Ant Colony Optimization (ChatGPT Version)"
   ]
  },
  {
   "cell_type": "code",
   "execution_count": 135,
   "metadata": {},
   "outputs": [
    {
     "ename": "ValueError",
     "evalue": "'a' and 'p' must have same size",
     "output_type": "error",
     "traceback": [
      "\u001b[1;31m---------------------------------------------------------------------------\u001b[0m",
      "\u001b[1;31mValueError\u001b[0m                                Traceback (most recent call last)",
      "Cell \u001b[1;32mIn[135], line 83\u001b[0m\n\u001b[0;32m     80\u001b[0m \u001b[38;5;66;03m#boxes = [Box(2, 2, 2), Box(3, 3, 3), Box(4, 4, 4)]\u001b[39;00m\n\u001b[0;32m     81\u001b[0m boxes \u001b[38;5;241m=\u001b[39m [Box(\u001b[38;5;241m2\u001b[39m,\u001b[38;5;241m12\u001b[39m,\u001b[38;5;241m3\u001b[39m),Box(\u001b[38;5;241m7\u001b[39m,\u001b[38;5;241m12\u001b[39m,\u001b[38;5;241m4\u001b[39m),Box(\u001b[38;5;241m8\u001b[39m,\u001b[38;5;241m6\u001b[39m,\u001b[38;5;241m6\u001b[39m),Box(\u001b[38;5;241m3\u001b[39m,\u001b[38;5;241m6\u001b[39m,\u001b[38;5;241m2\u001b[39m),Box(\u001b[38;5;241m3\u001b[39m,\u001b[38;5;241m5\u001b[39m,\u001b[38;5;241m5\u001b[39m),Box(\u001b[38;5;241m5\u001b[39m,\u001b[38;5;241m5\u001b[39m,\u001b[38;5;241m3\u001b[39m),Box(\u001b[38;5;241m3\u001b[39m,\u001b[38;5;241m12\u001b[39m,\u001b[38;5;241m4\u001b[39m),Box(\u001b[38;5;241m3\u001b[39m,\u001b[38;5;241m7\u001b[39m,\u001b[38;5;241m4\u001b[39m),Box(\u001b[38;5;241m5\u001b[39m,\u001b[38;5;241m7\u001b[39m,\u001b[38;5;241m8\u001b[39m),Box(\u001b[38;5;241m2\u001b[39m,\u001b[38;5;241m6\u001b[39m,\u001b[38;5;241m9\u001b[39m),Box(\u001b[38;5;241m3\u001b[39m,\u001b[38;5;241m2\u001b[39m,\u001b[38;5;241m11\u001b[39m),Box(\u001b[38;5;241m4\u001b[39m,\u001b[38;5;241m2\u001b[39m,\u001b[38;5;241m7\u001b[39m),Box(\u001b[38;5;241m7\u001b[39m,\u001b[38;5;241m8\u001b[39m,\u001b[38;5;241m2\u001b[39m),Box(\u001b[38;5;241m10\u001b[39m,\u001b[38;5;241m3\u001b[39m,\u001b[38;5;241m8\u001b[39m)]\n\u001b[1;32m---> 83\u001b[0m best_solution \u001b[38;5;241m=\u001b[39m \u001b[43mant_colony_optimization\u001b[49m\u001b[43m(\u001b[49m\u001b[43mnum_ants\u001b[49m\u001b[38;5;241;43m=\u001b[39;49m\u001b[38;5;241;43m10\u001b[39;49m\u001b[43m,\u001b[49m\u001b[43m \u001b[49m\u001b[43mnum_iterations\u001b[49m\u001b[38;5;241;43m=\u001b[39;49m\u001b[38;5;241;43m100\u001b[39;49m\u001b[43m,\u001b[49m\u001b[43m \u001b[49m\u001b[43mboxes\u001b[49m\u001b[38;5;241;43m=\u001b[39;49m\u001b[43mboxes\u001b[49m\u001b[43m,\u001b[49m\u001b[43m \u001b[49m\u001b[43mlarger_box\u001b[49m\u001b[38;5;241;43m=\u001b[39;49m\u001b[43mlarger_box\u001b[49m\u001b[43m,\u001b[49m\n\u001b[0;32m     84\u001b[0m \u001b[43m                                        \u001b[49m\u001b[43malpha\u001b[49m\u001b[38;5;241;43m=\u001b[39;49m\u001b[38;5;241;43m1.0\u001b[39;49m\u001b[43m,\u001b[49m\u001b[43m \u001b[49m\u001b[43mbeta\u001b[49m\u001b[38;5;241;43m=\u001b[39;49m\u001b[38;5;241;43m2.0\u001b[39;49m\u001b[43m,\u001b[49m\u001b[43m \u001b[49m\u001b[43mevaporation_rate\u001b[49m\u001b[38;5;241;43m=\u001b[39;49m\u001b[38;5;241;43m0.1\u001b[39;49m\u001b[43m)\u001b[49m\n\u001b[0;32m     86\u001b[0m \u001b[38;5;28mprint\u001b[39m(\u001b[38;5;124m\"\u001b[39m\u001b[38;5;124mBest solution:\u001b[39m\u001b[38;5;124m\"\u001b[39m, best_solution)\n",
      "Cell \u001b[1;32mIn[135], line 52\u001b[0m, in \u001b[0;36mant_colony_optimization\u001b[1;34m(num_ants, num_iterations, boxes, larger_box, alpha, beta, evaporation_rate)\u001b[0m\n\u001b[0;32m     49\u001b[0m current_state \u001b[38;5;241m=\u001b[39m [random\u001b[38;5;241m.\u001b[39mrandint(\u001b[38;5;241m0\u001b[39m, num_boxes \u001b[38;5;241m-\u001b[39m \u001b[38;5;241m1\u001b[39m)]  \u001b[38;5;66;03m# Start with a random box\u001b[39;00m\n\u001b[0;32m     51\u001b[0m \u001b[38;5;28;01mwhile\u001b[39;00m \u001b[38;5;28msum\u001b[39m(boxes[box_index]\u001b[38;5;241m.\u001b[39mvolume \u001b[38;5;28;01mfor\u001b[39;00m box_index \u001b[38;5;129;01min\u001b[39;00m current_state) \u001b[38;5;241m<\u001b[39m\u001b[38;5;241m=\u001b[39m larger_box\u001b[38;5;241m.\u001b[39mvolume:\n\u001b[1;32m---> 52\u001b[0m     next_box \u001b[38;5;241m=\u001b[39m \u001b[43mselect_next_box\u001b[49m\u001b[43m(\u001b[49m\u001b[43mcurrent_state\u001b[49m\u001b[43m,\u001b[49m\u001b[43m \u001b[49m\u001b[43mpheromone_matrix\u001b[49m\u001b[43m,\u001b[49m\u001b[43m \u001b[49m\u001b[43mboxes\u001b[49m\u001b[43m,\u001b[49m\u001b[43m \u001b[49m\u001b[43malpha\u001b[49m\u001b[43m,\u001b[49m\u001b[43m \u001b[49m\u001b[43mbeta\u001b[49m\u001b[43m)\u001b[49m\n\u001b[0;32m     54\u001b[0m     \u001b[38;5;28;01mif\u001b[39;00m next_box \u001b[38;5;129;01mnot\u001b[39;00m \u001b[38;5;129;01min\u001b[39;00m current_state:\n\u001b[0;32m     55\u001b[0m         current_state\u001b[38;5;241m.\u001b[39mappend(next_box)\n",
      "Cell \u001b[1;32mIn[135], line 18\u001b[0m, in \u001b[0;36mselect_next_box\u001b[1;34m(current_state, pheromone_matrix, boxes, alpha, beta)\u001b[0m\n\u001b[0;32m     15\u001b[0m \u001b[38;5;28;01mdef\u001b[39;00m \u001b[38;5;21mselect_next_box\u001b[39m(current_state, pheromone_matrix, boxes, alpha, beta):\n\u001b[0;32m     16\u001b[0m     \u001b[38;5;66;03m# Use pheromone matrix and heuristic information to select the next box\u001b[39;00m\n\u001b[0;32m     17\u001b[0m     probabilities \u001b[38;5;241m=\u001b[39m calculate_probabilities(current_state, pheromone_matrix, boxes, alpha, beta)\n\u001b[1;32m---> 18\u001b[0m     selected_box \u001b[38;5;241m=\u001b[39m \u001b[43mnp\u001b[49m\u001b[38;5;241;43m.\u001b[39;49m\u001b[43mrandom\u001b[49m\u001b[38;5;241;43m.\u001b[39;49m\u001b[43mchoice\u001b[49m\u001b[43m(\u001b[49m\u001b[38;5;28;43mlen\u001b[39;49m\u001b[43m(\u001b[49m\u001b[43mboxes\u001b[49m\u001b[43m)\u001b[49m\u001b[43m,\u001b[49m\u001b[43m \u001b[49m\u001b[43mp\u001b[49m\u001b[38;5;241;43m=\u001b[39;49m\u001b[43mprobabilities\u001b[49m\u001b[43m)\u001b[49m\n\u001b[0;32m     19\u001b[0m     \u001b[38;5;28;01mreturn\u001b[39;00m selected_box\n",
      "File \u001b[1;32mnumpy\\\\random\\\\mtrand.pyx:968\u001b[0m, in \u001b[0;36mnumpy.random.mtrand.RandomState.choice\u001b[1;34m()\u001b[0m\n",
      "\u001b[1;31mValueError\u001b[0m: 'a' and 'p' must have same size"
     ]
    }
   ],
   "source": [
    "import numpy as np\n",
    "import random\n",
    "\n",
    "class Box:\n",
    "    def __init__(self, width, height, depth):\n",
    "        self.width = width\n",
    "        self.height = height\n",
    "        self.depth = depth\n",
    "        self.volume = width*height*depth\n",
    "\n",
    "def initialize_pheromone_matrix(num_boxes):\n",
    "    # Initialize pheromone matrix with small values\n",
    "    return np.ones((num_boxes, num_boxes)) * 0.1\n",
    "\n",
    "def select_next_box(current_state, pheromone_matrix, boxes, alpha, beta):\n",
    "    # Use pheromone matrix and heuristic information to select the next box\n",
    "    probabilities = calculate_probabilities(current_state, pheromone_matrix, boxes, alpha, beta)\n",
    "    selected_box = np.random.choice(len(boxes), p=probabilities)\n",
    "    return selected_box\n",
    "\n",
    "def calculate_probabilities(current_state, pheromone_matrix, boxes, alpha, beta):\n",
    "    # Calculate the probability of selecting each box based on pheromone levels and heuristic information\n",
    "    probabilities = []\n",
    "\n",
    "    for box_index in range(len(boxes)):\n",
    "        if box_index not in current_state:\n",
    "            volume = boxes[box_index].volume\n",
    "            probability = pheromone_matrix[current_state[-1], box_index] ** alpha * \\\n",
    "                           (1.0 / volume) ** beta\n",
    "            probabilities.append(probability)\n",
    "\n",
    "    # Normalize probabilities\n",
    "    total_probability = sum(probabilities)\n",
    "    probabilities = [prob / total_probability if total_probability > 0 else 1 / len(probabilities) for prob in probabilities]\n",
    "\n",
    "    return probabilities\n",
    "\n",
    "def ant_colony_optimization(num_ants, num_iterations, boxes, larger_box, alpha, beta, evaporation_rate):\n",
    "    num_boxes = len(boxes)\n",
    "    pheromone_matrix = initialize_pheromone_matrix(num_boxes)\n",
    "\n",
    "    best_solution = None\n",
    "    best_fitness = 0.0\n",
    "\n",
    "    for iteration in range(num_iterations):\n",
    "        solutions = []\n",
    "\n",
    "        for ant in range(num_ants):\n",
    "            current_state = [random.randint(0, num_boxes - 1)]  # Start with a random box\n",
    "\n",
    "            while sum(boxes[box_index].volume for box_index in current_state) <= larger_box.volume:\n",
    "                next_box = select_next_box(current_state, pheromone_matrix, boxes, alpha, beta)\n",
    "\n",
    "                if next_box not in current_state:\n",
    "                    current_state.append(next_box)\n",
    "\n",
    "            fitness = sum(boxes[box_index].volume for box_index in current_state)\n",
    "\n",
    "            if fitness > best_fitness:\n",
    "                best_solution = current_state\n",
    "                best_fitness = fitness\n",
    "\n",
    "            solutions.append((current_state, fitness))\n",
    "\n",
    "        update_pheromone_matrix(pheromone_matrix, solutions, evaporation_rate)\n",
    "\n",
    "    return best_solution\n",
    "\n",
    "def update_pheromone_matrix(pheromone_matrix, solutions, evaporation_rate):\n",
    "    # Update pheromone levels based on the quality of solutions\n",
    "    for ant_solution, fitness in solutions:\n",
    "        for i in range(len(ant_solution) - 1):\n",
    "            pheromone_matrix[ant_solution[i], ant_solution[i + 1]] += fitness\n",
    "\n",
    "    # Evaporate pheromone\n",
    "    pheromone_matrix *= (1.0 - evaporation_rate)\n",
    "\n",
    "# Example usage:\n",
    "larger_box = Box(20, 20, 20)\n",
    "#boxes = [Box(2, 2, 2), Box(3, 3, 3), Box(4, 4, 4)]\n",
    "boxes = [Box(2,12,3),Box(7,12,4),Box(8,6,6),Box(3,6,2),Box(3,5,5),Box(5,5,3),Box(3,12,4),Box(3,7,4),Box(5,7,8),Box(2,6,9),Box(3,2,11),Box(4,2,7),Box(7,8,2),Box(10,3,8)]\n",
    "\n",
    "best_solution = ant_colony_optimization(num_ants=10, num_iterations=100, boxes=boxes, larger_box=larger_box,\n",
    "                                        alpha=1.0, beta=2.0, evaporation_rate=0.1)\n",
    "\n",
    "print(\"Best solution:\", best_solution)"
   ]
  },
  {
   "cell_type": "markdown",
   "metadata": {},
   "source": [
    "## 3D Bin Packing Problem - Ant Colony System (My version)"
   ]
  },
  {
   "cell_type": "code",
   "execution_count": null,
   "metadata": {},
   "outputs": [],
   "source": []
  }
 ],
 "metadata": {
  "kernelspec": {
   "display_name": "bioinspired",
   "language": "python",
   "name": "python3"
  },
  "language_info": {
   "codemirror_mode": {
    "name": "ipython",
    "version": 3
   },
   "file_extension": ".py",
   "mimetype": "text/x-python",
   "name": "python",
   "nbconvert_exporter": "python",
   "pygments_lexer": "ipython3",
   "version": "3.11.4"
  }
 },
 "nbformat": 4,
 "nbformat_minor": 2
}
