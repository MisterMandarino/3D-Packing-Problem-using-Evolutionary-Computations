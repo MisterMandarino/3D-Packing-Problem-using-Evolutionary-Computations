{
 "cells": [
  {
   "cell_type": "markdown",
   "metadata": {},
   "source": [
    "# Bin Packing Problem With Evolutionary Computations"
   ]
  },
  {
   "cell_type": "code",
   "execution_count": 4,
   "metadata": {},
   "outputs": [],
   "source": [
    "#from enum import Enum\n",
    "#from copy import copy, deepcopy\n",
    "import matplotlib.pyplot as plt\n",
    "from random import choices, randint, randrange, random, choice\n",
    "import matplotlib.pyplot as plt\n",
    "from math import sqrt\n",
    "from tqdm import tqdm\n",
    "import numpy as np"
   ]
  },
  {
   "cell_type": "code",
   "execution_count": 41,
   "metadata": {},
   "outputs": [],
   "source": [
    "## print solution\n",
    "from mpl_toolkits.mplot3d import Axes3D\n",
    "from matplotlib.patches import Rectangle\n",
    "import plotly.graph_objects as go\n",
    "\n",
    "# Plot settings\n",
    "figsize = (6,6)\n",
    "rect_color = 'lightblue'\n",
    "edge_color = 'black'\n",
    "alpha = 0.5\n",
    "\n",
    "def plot_configuration(configuration, items):\n",
    "    fig = plt.figure(figsize=figsize)\n",
    "    ax = fig.add_subplot(111)\n",
    "\n",
    "    # Set the ticks for the main plot\n",
    "    ax.set_xlim([0,BIN_WIDTH])\n",
    "    ax.set_ylim([0,BIN_HEIGHT])\n",
    "    ax.set_xticks(range(0, BIN_WIDTH+1, 5))\n",
    "    ax.set_yticks(range(0, BIN_HEIGHT+1, 5))\n",
    "\n",
    "    # Draw the placed rects in main plot\n",
    "    for position, item in zip(configuration, items):\n",
    "        box = Rectangle(position, item[0], item[1], fc=rect_color, ec=edge_color, alpha=alpha)\n",
    "        ax.add_patch(box)\n",
    "\n",
    "    plt.show(block=False)\n",
    "    plt.title('Best Configuration')\n",
    "    plt.close()\n",
    "\n",
    "\n",
    "def plot_fitness(best_fit, worst_fit, n_gen, fit_lim):\n",
    "    fig = plt.figure(figsize=figsize)\n",
    "    ax = fig.add_subplot(111)\n",
    "    ax.plot(best_fit, label='Best fitness')\n",
    "    ax.plot(worst_fit, label='Worst fitness')\n",
    "    ax.hlines(y=fit_lim, xmin=0, xmax=n_gen, colors='black', label='Optimal', linestyles='--')\n",
    "    ax.set_xlim([0, n_gen])\n",
    "    #ax.set_ylim([0, fit_lim])\n",
    "    ax.legend()\n",
    "    plt.xlabel('Generations')\n",
    "    plt.ylabel('Fitness')\n",
    "    plt.title('Fitness Evolution')\n",
    "    plt.show()\n",
    "\n",
    "\n",
    "def plot_boxes(ax, boxes_pos, boxes_dim, multi_color):\n",
    "    for pos, dim in zip(boxes_pos, boxes_dim):\n",
    "        if multi_color:\n",
    "            color = \"#\"+''.join([choice('0123456789ABCDEF') for j in range(6)])\n",
    "        else:\n",
    "            color = 'lightblue'\n",
    "        x, y, z = pos\n",
    "        dx, dy, dz = dim\n",
    "        ax.bar3d(x, y, z, dx, dy, dz, shade=True, color=color, edgecolors=edge_color, alpha=alpha)\n",
    "        \n",
    "## Plot configuration\n",
    "def plot_configuration_3d(configuration, items, multi_color=False):\n",
    "\n",
    "\n",
    "    # Create the 3D plot\n",
    "    fig = plt.figure()\n",
    "    ax = fig.add_subplot(111, projection='3d')\n",
    "\n",
    "    # Set plot limits\n",
    "    ax.set_xlim([0, BOX_WIDTH])\n",
    "    ax.set_ylim([0, BOX_HEIGHT])\n",
    "    ax.set_zlim([0, BOX_DEPTH])\n",
    "\n",
    "    # Plot the boxes\n",
    "    plot_boxes(ax, configuration, items, multi_color=multi_color)\n",
    "\n",
    "    # Set labels\n",
    "    ax.set_xlabel('X-axis')\n",
    "    ax.set_ylabel('Y-axis')\n",
    "    ax.set_zlabel('Z-axis')\n",
    "    ax.set_title('3D Bin Packing Solution')\n",
    "\n",
    "    # Show the plot\n",
    "    plt.show()\n",
    "\n",
    "\n",
    "def plot_boxes_interactive(fig, boxes_pos, boxes_dim):\n",
    "    for pos, dim in zip(boxes_pos, boxes_dim):\n",
    "        x, y, z = pos\n",
    "        dx, dy, dz = dim\n",
    "\n",
    "        #colors = [\"#\"+''.join([choice('0123456789ABCDEF') for j in range(6)]) for i in range(2)]\n",
    "        color = \"#\"+''.join([choice('0123456789ABCDEF') for j in range(6)])\n",
    "        \n",
    "        fig.add_trace(go.Mesh3d(x=[x, x, x+dx, x+dx, x, x, x+dx, x+dx],\n",
    "                                y=[y, y+dy, y+dy, y, y, y+dy, y+dy, y],\n",
    "                                z=[z, z, z, z, z+dz, z+dz, z+dz, z+dz],\n",
    "                                #colorscale=[[0, colors[0]],[1, colors[1]]],\n",
    "                                # Intensity of each vertex, which will be interpolated and color-coded\n",
    "                                #intensity = np.linspace(0, 1, 8, endpoint=True),\n",
    "                                # i, j and k give the vertices of triangles\n",
    "                                i = [7, 0, 0, 0, 4, 4, 6, 6, 4, 0, 3, 2],\n",
    "                                j = [3, 4, 1, 2, 5, 6, 5, 2, 0, 1, 6, 3],\n",
    "                                k = [0, 7, 2, 3, 6, 7, 1, 1, 5, 5, 7, 6],\n",
    "                                name='y',\n",
    "                                showscale=False,\n",
    "                                opacity=0.8,\n",
    "                                color=color,\n",
    "                                flatshading=True                          \n",
    "                                ))\n",
    "        \n",
    "def plot_configuration_3d_interactive(configuration, items):\n",
    "\n",
    "    # Create the interactive 3D plot\n",
    "    fig = go.Figure()\n",
    "\n",
    "    # Plot the boxes\n",
    "    plot_boxes_interactive(fig, configuration, items)\n",
    "\n",
    "    # Set layout\n",
    "    fig.update_layout(scene=dict(aspectmode=\"cube\",\n",
    "                                 xaxis=dict(range=[0, BOX_WIDTH]),\n",
    "                                 yaxis=dict(range=[0, BOX_HEIGHT]),\n",
    "                                 zaxis=dict(range=[0, BOX_LENGTH]),\n",
    "                                 aspectratio=dict(x=1, y=1, z=1)))\n",
    "\n",
    "    # Show the interactive plot\n",
    "    fig.show()"
   ]
  },
  {
   "cell_type": "markdown",
   "metadata": {},
   "source": [
    "## 2D Packing Problem - Greed Search"
   ]
  },
  {
   "cell_type": "code",
   "execution_count": 6,
   "metadata": {},
   "outputs": [],
   "source": [
    "from mip import *\n",
    "from itertools import permutations\n",
    "\n",
    "BIN_WIDTH, BIN_HEIGHT = 20, 20\n",
    "\n",
    "def main(plot=True):\n",
    "\n",
    "    model = Model()\n",
    "\n",
    "    W, H = BIN_WIDTH, BIN_HEIGHT\n",
    "    w, h = list(), list()\n",
    "    m = list()\n",
    "\n",
    "    ## Reading instances\n",
    "    numberOfVariables = 0\n",
    "    with open('instance_2d.txt') as f:\n",
    "        for index, line in enumerate(f.readlines()):\n",
    "            separated_values = line.replace('\\n', '').split(',')\n",
    "            separated_values = [float(value) for value in separated_values]\n",
    "\n",
    "            if len(separated_values) == 2:\n",
    "                possible_permutations = set(permutations(separated_values, 2))\n",
    "                m.append(len(possible_permutations))\n",
    "\n",
    "                w.append([value[0] for value in possible_permutations])\n",
    "                h.append([value[1] for value in possible_permutations])\n",
    "\n",
    "                numberOfVariables += 1\n",
    "\n",
    "    ## Create variables\n",
    "    x, y = list(), list()\n",
    "    s = list()\n",
    "\n",
    "    left, right, under, over = dict(), dict(), dict(), dict()\n",
    "\n",
    "    for i in range(numberOfVariables):\n",
    "        x.append(model.add_var(name=f'x_{i+1}', var_type=CONTINUOUS, lb=0))\n",
    "        y.append(model.add_var(name=f'y_{i+1}', var_type=CONTINUOUS, lb=0))\n",
    "\n",
    "        s.append(list())\n",
    "        for k in range(m[i]):\n",
    "            s[i].append(model.add_var(name=f's_{i+1}_{k+1}', var_type=BINARY))\n",
    "\n",
    "        left[i] = dict()\n",
    "        right[i] = dict()\n",
    "        under[i] = dict()\n",
    "        over[i] = dict()\n",
    "\n",
    "        for j in range(i+1, numberOfVariables):\n",
    "            left[i][j] = model.add_var(name=f'l_{i+1}_{j+1}', var_type=BINARY)\n",
    "            right[i][j] = model.add_var(name=f'r_{i+1}_{j+1}', var_type=BINARY)\n",
    "            under[i][j] = model.add_var(name=f'u_{i+1}_{j+1}', var_type=BINARY)\n",
    "            over[i][j] = model.add_var(name=f'o_{i+1}_{j+1}', var_type=BINARY)\n",
    "\n",
    "    ## Create the model\n",
    "    model.objective = maximize(xsum(s[i][k] for i in range(numberOfVariables) for k in range(m[i])))\n",
    "\n",
    "    for i in range(numberOfVariables):\n",
    "        for j in range(i+1, numberOfVariables):\n",
    "            model += left[i][j] + right[i][j] + under[i][j] + over[i][j] >= xsum(s[i][k] for k in range(m[i])) + xsum(s[j][k] for k in range(m[j])) - 1\n",
    "            model += left[i][j] + right[i][j] + under[i][j] + over[i][j] <= xsum(s[i][k] for k in range(m[i]))\n",
    "            model += left[i][j] + right[i][j] + under[i][j] + over[i][j] <= xsum(s[j][k] for k in range(m[j]))\n",
    "\n",
    "            model += x[i] - x[j] + W * left[i][j] <= W - xsum(s[i][k] * w[i][k] for k in range(m[i]))\n",
    "            model += x[j] - x[i] + W * right[i][j] <= W - xsum(s[j][k] * w[j][k] for k in range(m[j]))\n",
    "            model += y[i] - y[j] + H * under[i][j] <= H - xsum(s[i][k] * h[i][k] for k in range(m[i]))\n",
    "            model += y[j] - y[i] + H * over[i][j] <= H - xsum(s[j][k] * h[j][k] for k in range(m[j]))\n",
    "        \n",
    "        model += xsum(s[i][k] for k in range(m[i])) == 1\n",
    "\n",
    "    for i in range(numberOfVariables):\n",
    "        model += x[i] <= W - xsum(s[i][k] * w[i][k] for k in range(m[i]))\n",
    "        model += y[i] <= H - xsum(s[i][k] * h[i][k] for k in range(m[i]))\n",
    "\n",
    "    ## Solving\n",
    "    model.max_gap = 0.05\n",
    "    status = model.optimize(max_seconds=600)\n",
    "\n",
    "    positions = []\n",
    "    orientations = []\n",
    "\n",
    "    if status == OptimizationStatus.OPTIMAL:\n",
    "        print(f'solution: {model.objective_value}')\n",
    "        items_orientation = dict()\n",
    "        for v in model.vars:\n",
    "            if v.name[0] == \"s\" and v.x >= 0.98:\n",
    "                sep_name = v.name.split(\"_\")\n",
    "                item_name = f\"Item {sep_name[1]}\"\n",
    "\n",
    "                items_orientation[item_name] = list()\n",
    "\n",
    "                items_orientation[item_name].append(w[int(sep_name[1])-1][int(sep_name[2])-1])\n",
    "                items_orientation[item_name].append(h[int(sep_name[1])-1][int(sep_name[2])-1])\n",
    "\n",
    "        print(\"Items:\")\n",
    "        position = []\n",
    "        for index, v in enumerate(model.vars):\n",
    "            \n",
    "            if v.name[0] == \"x\":\n",
    "                sep_name = v.name.split(\"_\")\n",
    "                print(f\"\\tItem {sep_name[1]}:\")\n",
    "                print(f\"\\t\\tposition: [{v.x}, \", end=\"\")\n",
    "                position.append(v.x)\n",
    "            elif v.name[0] == \"y\":\n",
    "                print(f\"{v.x}],\")\n",
    "                position.append(v.x)\n",
    "                positions.append(position)\n",
    "                position = []\n",
    "                sep_name = v.name.split(\"_\")\n",
    "                print(f\"\\t\\torientation: {items_orientation[f'Item {sep_name[1]}']}\")\n",
    "                orientations.append(items_orientation[f'Item {sep_name[1]}'])\n",
    "\n",
    "\n",
    "        print(\"boxes_dimensions = \", end=\"\")\n",
    "        print(orientations)\n",
    "        print(\"boxes_positions = \", end=\"\")\n",
    "        print(positions)\n",
    "\n",
    "        if plot:\n",
    "            plot_configuration(positions, orientations)\n",
    "        #model.write(\"3DPacking.lp\")\n",
    "    elif status == OptimizationStatus.INFEASIBLE:\n",
    "        print('The Problem is INFEASIBLE')"
   ]
  },
  {
   "cell_type": "code",
   "execution_count": 7,
   "metadata": {},
   "outputs": [
    {
     "name": "stdout",
     "output_type": "stream",
     "text": [
      "solution: 14.0\n",
      "Items:\n",
      "\tItem 1:\n",
      "\t\tposition: [0.0, 8.0],\n",
      "\t\torientation: [2.0, 12.0]\n",
      "\tItem 2:\n",
      "\t\tposition: [8.0, 0.0],\n",
      "\t\torientation: [12.0, 7.0]\n",
      "\tItem 3:\n",
      "\t\tposition: [8.0, 14.0],\n",
      "\t\torientation: [8.0, 6.0]\n",
      "\tItem 4:\n",
      "\t\tposition: [2.0, 7.0],\n",
      "\t\torientation: [3.0, 6.0]\n",
      "\tItem 5:\n",
      "\t\tposition: [5.0, 12.0],\n",
      "\t\torientation: [3.0, 5.0]\n",
      "\tItem 6:\n",
      "\t\tposition: [11.0, 7.0],\n",
      "\t\torientation: [5.0, 5.0]\n",
      "\tItem 7:\n",
      "\t\tposition: [5.0, 0.0],\n",
      "\t\torientation: [3.0, 12.0]\n",
      "\tItem 8:\n",
      "\t\tposition: [17.0, 7.0],\n",
      "\t\torientation: [3.0, 7.0]\n",
      "\tItem 9:\n",
      "\t\tposition: [0.0, 0.0],\n",
      "\t\torientation: [5.0, 7.0]\n",
      "\tItem 10:\n",
      "\t\tposition: [8.0, 12.0],\n",
      "\t\torientation: [6.0, 2.0]\n",
      "\tItem 11:\n",
      "\t\tposition: [14.0, 12.0],\n",
      "\t\torientation: [3.0, 2.0]\n",
      "\tItem 12:\n",
      "\t\tposition: [16.0, 18.0],\n",
      "\t\torientation: [4.0, 2.0]\n",
      "\tItem 13:\n",
      "\t\tposition: [2.0, 17.0],\n",
      "\t\torientation: [4.0, 3.0]\n",
      "\tItem 14:\n",
      "\t\tposition: [16.0, 14.0],\n",
      "\t\torientation: [4.0, 4.0]\n",
      "boxes_dimensions = [[2.0, 12.0], [12.0, 7.0], [8.0, 6.0], [3.0, 6.0], [3.0, 5.0], [5.0, 5.0], [3.0, 12.0], [3.0, 7.0], [5.0, 7.0], [6.0, 2.0], [3.0, 2.0], [4.0, 2.0], [4.0, 3.0], [4.0, 4.0]]\n",
      "boxes_positions = [[0.0, 8.0], [8.0, 0.0], [8.0, 14.0], [2.0, 7.0], [5.0, 12.0], [11.0, 7.0], [5.0, 0.0], [17.0, 7.0], [0.0, 0.0], [8.0, 12.0], [14.0, 12.0], [16.0, 18.0], [2.0, 17.0], [16.0, 14.0]]\n"
     ]
    },
    {
     "data": {
      "image/png": "[encoded data removed]",
      "text/plain": [
       "<Figure size 600x600 with 1 Axes>"
      ]
     },
     "metadata": {},
     "output_type": "display_data"
    }
   ],
   "source": [
    "main()"
   ]
  },
  {
   "cell_type": "markdown",
   "metadata": {},
   "source": [
    "## Genetic algorithms from scratch\n",
    "\n",
    "**NEED**\n",
    "- configuration to represent an individual(solution)\n",
    "- Mutation function\n",
    "- Crossover function\n",
    "- Selection\n",
    "- Fitness function"
   ]
  },
  {
   "cell_type": "code",
   "execution_count": 11,
   "metadata": {},
   "outputs": [],
   "source": [
    "BIN_WIDTH = 20\n",
    "BIN_HEIGHT = 20\n",
    "\n",
    "\n",
    "def generate_items(n):\n",
    "    return [(randrange(1,BIN_WIDTH//3), randrange(1,BIN_HEIGHT//3)) for _ in range(n)]\n",
    "\n",
    "items = [(2,12),(7,12),(8,6),(3,6),(3,5),(5,5),(3,12),(3,7),(5,7),(2,6),(3,2),(4,2),(3,4),(4,4)]\n",
    "#items = [(2,12),(7,12),(8,6),(3,6),(3,5),(5,5),(3,12),(3,7),(5,7),(2,6),(3,2),(4,2)]"
   ]
  },
  {
   "cell_type": "code",
   "execution_count": 17,
   "metadata": {},
   "outputs": [],
   "source": [
    "def items_oriented(genome, items):\n",
    "    new_items = []\n",
    "    for item, gene in zip(items, genome):\n",
    "        if gene[2] == 0:\n",
    "            new_items.append(item)\n",
    "        elif gene[2] == 1:\n",
    "            new_items.append((item[1], item[0]))\n",
    "    return new_items\n",
    "\n",
    "def generate_genome(items):\n",
    "    candidate = []\n",
    "\n",
    "    for obj in items:\n",
    "        # Each object has x, y, width, height as decision variables\n",
    "        r = randint(0,1)\n",
    "        if r == 0: ## No rotation\n",
    "            x = randint(0, BIN_WIDTH - obj[0])\n",
    "            y = randint(0, BIN_HEIGHT - obj[1])\n",
    "        elif r == 1: ## Rotation\n",
    "            x = randint(0, BIN_WIDTH - obj[1])\n",
    "            y = randint(0, BIN_HEIGHT - obj[0])\n",
    "        candidate.append((x, y, r))\n",
    "    return candidate\n",
    "\n",
    "def generate_population(size: int, items):\n",
    "    return [generate_genome(items) for _ in range(size)]\n",
    "\n",
    "## Fitness using Matrix vectorization (Maximization problem)\n",
    "def fitness(genome, items):\n",
    "    items_cpy = items_oriented(genome, items)\n",
    "\n",
    "    sol_space = np.zeros((BIN_WIDTH, BIN_HEIGHT), dtype=np.int32)\n",
    "\n",
    "    for gene, item in zip(genome, items_cpy):\n",
    "        sol_space[gene[0]:gene[0]+item[0], gene[1]:gene[1]+item[1]] += 1\n",
    "\n",
    "    good_pos = np.where(sol_space == 1) ## the more space they occupy the better the fitness\n",
    "    good_fit = len(sol_space[good_pos])\n",
    "\n",
    "    bad_pos = np.where(sol_space > 1) ## penalty function for overlapped area\n",
    "    bad_fit = len(sol_space[bad_pos])\n",
    "\n",
    "    return (good_fit - bad_fit)\n",
    "\n",
    "## Selection for Maximization\n",
    "def selection_pair(population, n_parents : int = 2): ## Roulette-wheel selection\n",
    "    return choices(population=population,\n",
    "                   weights=[fitness(genome, items) for genome in population],\n",
    "                   k=n_parents)\n",
    "\n",
    "def single_point_crossover(a, b):\n",
    "    assert len(a) == len(b), 'Genomes must have the same length'\n",
    "\n",
    "    length = len(a)\n",
    "    if length < 2:\n",
    "        return a, b\n",
    "    \n",
    "    p = randint(1, length - 1)\n",
    "    return a[0:p] + b[p:], b[0:p] + a[p:]\n",
    "\n",
    "def mutation(genome, items, num: int = 1, probability: float = 0.5):\n",
    "    for _ in range(num):\n",
    "        index = randrange(len(genome))\n",
    "        if random() <= probability:\n",
    "            r = randint(0,1)\n",
    "            if r == 0:\n",
    "                x = randint(0, BIN_WIDTH - items[index][0])\n",
    "                y = randint(0, BIN_HEIGHT - items[index][1])\n",
    "            elif r == 1:\n",
    "                x = randint(0, BIN_WIDTH - items[index][1])\n",
    "                y = randint(0, BIN_HEIGHT - items[index][0])\n",
    "            genome[index] = (x, y, r)\n",
    "    return genome\n",
    "\n",
    "def run_evolution(pop_size=100, generation_limit: int = 100, num_mutation = 1, mutation_probability=0.5, n_elites=2):\n",
    "    \n",
    "    fitness_limit = sum([item[0]*item[1] for item in items])\n",
    "\n",
    "    population = generate_population(pop_size, items=items)\n",
    "    best_fitnesses = []\n",
    "    worst_fitnesses = []\n",
    "\n",
    "    for i in tqdm(range(generation_limit)):\n",
    "        population = sorted(population, key=lambda genome: fitness(genome, items), reverse=True)\n",
    "\n",
    "        best_fitnesses.append(fitness(population[0], items))\n",
    "        worst_fitnesses.append(fitness(population[-1], items))\n",
    "        \n",
    "        if fitness(population[0], items) == fitness_limit:\n",
    "            print('All items can fit perfectly in the bin!')\n",
    "            break\n",
    "        \n",
    "        next_generation = population[0:n_elites] ## Elitism\n",
    "\n",
    "        for j in range(int(len(population) /2) - (n_elites//2)):\n",
    "            parents = selection_pair(population)\n",
    "            offspring_a, offspring_b = single_point_crossover(parents[0], parents[1])\n",
    "            offspring_a = mutation(offspring_a, items, num=num_mutation, probability=mutation_probability)\n",
    "            offspring_b = mutation(offspring_b, items, num=num_mutation, probability=mutation_probability)\n",
    "            next_generation += [offspring_a, offspring_b]\n",
    "        \n",
    "        population = next_generation\n",
    "\n",
    "    population = sorted(population, key=lambda genome: fitness(genome, items), reverse=True)\n",
    "    best_fitness = fitness(population[0], items)\n",
    "    best_fitnesses.append(best_fitness)\n",
    "    worst_fitnesses.append(fitness(population[-1], items))\n",
    "    \n",
    "    return population, i, best_fitness, best_fitnesses, worst_fitnesses, fitness_limit\n",
    "\n",
    "def plot_configuration_with_rotation(configuration, items):\n",
    "    dimensions = [(conf[0], conf[1]) for conf in configuration]\n",
    "    new_items = items_oriented(configuration, items)\n",
    "\n",
    "    fig = plt.figure(figsize=figsize)\n",
    "    ax = fig.add_subplot(111)\n",
    "\n",
    "    # Set the ticks for the main plot\n",
    "    ax.set_xlim([0,BIN_WIDTH])\n",
    "    ax.set_ylim([0,BIN_HEIGHT])\n",
    "    ax.set_xticks(range(0, BIN_WIDTH+1, 5))\n",
    "    ax.set_yticks(range(0, BIN_HEIGHT+1, 5))\n",
    "\n",
    "    # Draw the placed rects in main plot\n",
    "    for position, item in zip(dimensions, new_items):\n",
    "        box = Rectangle(position, item[0], item[1], fc=rect_color, ec=edge_color, alpha=alpha)\n",
    "        ax.add_patch(box)\n",
    "\n",
    "    plt.show(block=False)\n",
    "    plt.title('Best Configuration')\n",
    "    plt.close()"
   ]
  },
  {
   "cell_type": "code",
   "execution_count": 19,
   "metadata": {},
   "outputs": [
    {
     "name": "stderr",
     "output_type": "stream",
     "text": [
      "100%|██████████| 1000/1000 [03:40<00:00,  4.53it/s]"
     ]
    },
    {
     "name": "stdout",
     "output_type": "stream",
     "text": [
      "number of generations:  999\n",
      "items:  [(2, 12), (7, 12), (8, 6), (3, 6), (3, 5), (5, 5), (3, 12), (3, 7), (5, 7), (2, 6), (3, 2), (4, 2), (3, 4), (4, 4)]\n",
      "best solution:  [(18, 3, 0), (11, 0, 0), (0, 11, 1), (15, 13, 0), (9, 0, 0), (0, 5, 0), (6, 0, 0), (1, 1, 1), (10, 13, 0), (9, 11, 1), (9, 8, 1), (18, 15, 1), (6, 12, 0), (7, 16, 0)]\n",
      "maximum fitness =  360\n",
      "best fitness:  303\n"
     ]
    },
    {
     "name": "stderr",
     "output_type": "stream",
     "text": [
      "\n"
     ]
    },
    {
     "data": {
      "image/png": "[encoded data removed]",
      "text/plain": [
       "<Figure size 600x600 with 1 Axes>"
      ]
     },
     "metadata": {},
     "output_type": "display_data"
    },
    {
     "data": {
      "image/png": "[encoded data removed]",
      "text/plain": [
       "<Figure size 600x600 with 1 Axes>"
      ]
     },
     "metadata": {},
     "output_type": "display_data"
    }
   ],
   "source": [
    "population, generations, fit, best_fits, worst_fits, fit_lim = run_evolution(generation_limit=1000, num_mutation=3, mutation_probability=0.5, n_elites=2)\n",
    "\n",
    "print('number of generations: ', generations)\n",
    "print('items: ', items)\n",
    "print('best solution: ', population[0])\n",
    "print('maximum fitness = ',fit_lim)\n",
    "print('best fitness: ', fit)\n",
    "plot_configuration(population[0], items)\n",
    "plot_fitness(best_fits, worst_fits, generations, fit_lim)"
   ]
  },
  {
   "cell_type": "code",
   "execution_count": 9,
   "metadata": {},
   "outputs": [],
   "source": [
    "def generate_genome(items):\n",
    "    candidate = []\n",
    "\n",
    "    for obj in items:\n",
    "        # Each object has x, y, width, height as decision variables\n",
    "        x = randint(0, BIN_WIDTH - obj[0])\n",
    "        y = randint(0, BIN_HEIGHT - obj[1])\n",
    "        candidate.append((x, y))\n",
    "    return candidate\n",
    "\n",
    "def generate_population(size: int, items):\n",
    "    return [generate_genome(items) for _ in range(size)]\n",
    "\n",
    "## Fitness using Matrix vectorization (Maximization problem)\n",
    "def fitness(genome, items):\n",
    "    sol_space = np.zeros((BIN_WIDTH, BIN_HEIGHT), dtype=np.int32)\n",
    "\n",
    "    for gene, item in zip(genome, items):\n",
    "        sol_space[gene[0]:gene[0]+item[0], gene[1]:gene[1]+item[1]] += 1\n",
    "\n",
    "    good_pos = np.where(sol_space == 1) ## the more space they occupy the better the fitness\n",
    "    good_fit = len(sol_space[good_pos])\n",
    "\n",
    "    bad_pos = np.where(sol_space > 1) ## penalty function for overlapped area\n",
    "    bad_fit = len(sol_space[bad_pos])\n",
    "\n",
    "    return (good_fit - bad_fit) \n",
    "\n",
    "## Selection for Maximization\n",
    "def selection_pair(population, n_parents : int = 2): ## Roulette-wheel selection\n",
    "    return choices(population=population,\n",
    "                   weights=[fitness(genome, items) for genome in population],\n",
    "                   k=n_parents)\n",
    "\n",
    "def single_point_crossover(a, b):\n",
    "    assert len(a) == len(b), 'Genomes must have the same length'\n",
    "\n",
    "    length = len(a)\n",
    "    if length < 2:\n",
    "        return a, b\n",
    "    \n",
    "    p = randint(1, length - 1)\n",
    "    return a[0:p] + b[p:], b[0:p] + a[p:]\n",
    "\n",
    "def mutation(genome, items, num: int = 1, probability: float = 0.5):\n",
    "    for _ in range(num):\n",
    "        index = randrange(len(genome))\n",
    "        if random() <= probability:\n",
    "            x = randint(0, BIN_WIDTH - items[index][0])\n",
    "            y = randint(0, BIN_HEIGHT - items[index][1])\n",
    "            genome[index] = (x, y)\n",
    "    return genome\n",
    "\n",
    "def run_evolution(pop_size=100, generation_limit: int = 100, num_mutation = 1, mutation_probability=0.5, n_elites=2):\n",
    "    \n",
    "    fitness_limit = sum([item[0]*item[1] for item in items])\n",
    "\n",
    "    population = generate_population(pop_size, items=items)\n",
    "    best_fitnesses = []\n",
    "    worst_fitnesses = []\n",
    "\n",
    "    for i in tqdm(range(generation_limit)):\n",
    "        population = sorted(population, key=lambda genome: fitness(genome, items), reverse=True)\n",
    "\n",
    "        best_fitnesses.append(fitness(population[0], items))\n",
    "        worst_fitnesses.append(fitness(population[-1], items))\n",
    "        \n",
    "        if fitness(population[0], items) == fitness_limit:\n",
    "            print('All items can fit perfectly in the bin!')\n",
    "            break\n",
    "        \n",
    "        next_generation = population[0:n_elites] ## Elitism\n",
    "\n",
    "        for j in range(int(len(population) /2) - (n_elites//2)):\n",
    "            parents = selection_pair(population)\n",
    "            offspring_a, offspring_b = single_point_crossover(parents[0], parents[1])\n",
    "            offspring_a = mutation(offspring_a, items, num=num_mutation, probability=mutation_probability)\n",
    "            offspring_b = mutation(offspring_b, items, num=num_mutation, probability=mutation_probability)\n",
    "            next_generation += [offspring_a, offspring_b]\n",
    "        \n",
    "        population = next_generation\n",
    "\n",
    "    population = sorted(population, key=lambda genome: fitness(genome, items), reverse=True)\n",
    "    best_fitness = fitness(population[0], items)\n",
    "    best_fitnesses.append(best_fitness)\n",
    "    worst_fitnesses.append(fitness(population[-1], items))\n",
    "    \n",
    "    return population, i, best_fitness, best_fitnesses, worst_fitnesses, fitness_limit"
   ]
  },
  {
   "cell_type": "code",
   "execution_count": 10,
   "metadata": {},
   "outputs": [
    {
     "name": "stderr",
     "output_type": "stream",
     "text": [
      "  0%|          | 0/1000 [00:00<?, ?it/s]"
     ]
    },
    {
     "name": "stderr",
     "output_type": "stream",
     "text": [
      "100%|██████████| 1000/1000 [03:26<00:00,  4.84it/s]"
     ]
    },
    {
     "name": "stdout",
     "output_type": "stream",
     "text": [
      "number of generations:  999\n",
      "items:  [(2, 12), (7, 12), (8, 6), (3, 6), (3, 5), (5, 5), (3, 12), (3, 7), (5, 7), (2, 6), (3, 2), (4, 2), (3, 4), (4, 4)]\n",
      "best solution:  [(0, 1), (9, 0), (11, 14), (6, 3), (6, 15), (3, 9), (17, 0), (8, 12), (0, 13), (2, 3), (6, 1), (11, 12), (15, 10), (2, 0)]\n",
      "maximum fitness =  360\n",
      "best fitness:  324\n"
     ]
    },
    {
     "name": "stderr",
     "output_type": "stream",
     "text": [
      "\n"
     ]
    },
    {
     "data": {
      "image/png": "[encoded data removed]",
      "text/plain": [
       "<Figure size 600x600 with 1 Axes>"
      ]
     },
     "metadata": {},
     "output_type": "display_data"
    },
    {
     "data": {
      "image/png": "[encoded data removed]",
      "text/plain": [
       "<Figure size 600x600 with 1 Axes>"
      ]
     },
     "metadata": {},
     "output_type": "display_data"
    }
   ],
   "source": [
    "population, generations, fit, best_fits, worst_fits, fit_lim = run_evolution(generation_limit=1000, num_mutation=2, mutation_probability=0.5, n_elites=2)\n",
    "\n",
    "print('number of generations: ', generations)\n",
    "print('items: ', items)\n",
    "print('best solution: ', population[0])\n",
    "print('maximum fitness = ',fit_lim)\n",
    "print('best fitness: ', fit)\n",
    "plot_configuration(population[0], items)\n",
    "plot_fitness(best_fits, worst_fits, generations, fit_lim)"
   ]
  },
  {
   "cell_type": "code",
   "execution_count": 47,
   "metadata": {},
   "outputs": [
    {
     "name": "stderr",
     "output_type": "stream",
     "text": [
      "100%|██████████| 150/150 [00:27<00:00,  5.52it/s]\n",
      "100%|██████████| 150/150 [00:27<00:00,  5.44it/s]\n",
      "100%|██████████| 150/150 [00:27<00:00,  5.38it/s]\n",
      "100%|██████████| 150/150 [00:26<00:00,  5.63it/s]\n",
      "100%|██████████| 150/150 [00:26<00:00,  5.62it/s]\n",
      " 46%|████▌     | 69/150 [00:12<00:14,  5.52it/s]\n"
     ]
    },
    {
     "name": "stdout",
     "output_type": "stream",
     "text": [
      "All items can fit perfectly in the bin!\n"
     ]
    },
    {
     "name": "stderr",
     "output_type": "stream",
     "text": [
      "100%|██████████| 150/150 [00:26<00:00,  5.70it/s]\n",
      "100%|██████████| 150/150 [00:26<00:00,  5.73it/s]\n",
      "100%|██████████| 150/150 [00:27<00:00,  5.56it/s]\n",
      "100%|██████████| 150/150 [00:27<00:00,  5.46it/s]\n",
      "100%|██████████| 150/150 [00:27<00:00,  5.46it/s]\n",
      "100%|██████████| 150/150 [00:27<00:00,  5.52it/s]\n",
      "100%|██████████| 150/150 [00:27<00:00,  5.54it/s]\n",
      "100%|██████████| 150/150 [00:27<00:00,  5.48it/s]\n",
      "100%|██████████| 150/150 [00:41<00:00,  3.62it/s]\n",
      "100%|██████████| 150/150 [01:21<00:00,  1.85it/s]\n",
      "100%|██████████| 150/150 [01:12<00:00,  2.07it/s]\n",
      "100%|██████████| 150/150 [01:11<00:00,  2.10it/s]\n",
      "100%|██████████| 150/150 [01:12<00:00,  2.08it/s]\n",
      "100%|██████████| 150/150 [00:41<00:00,  3.58it/s]\n"
     ]
    },
    {
     "data": {
      "image/png": "[encoded data removed]",
      "text/plain": [
       "<Figure size 640x480 with 1 Axes>"
      ]
     },
     "metadata": {},
     "output_type": "display_data"
    }
   ],
   "source": [
    "## Multiple runs\n",
    "n_runs = 20\n",
    "best_fitnesses = []\n",
    "for _ in range(n_runs):\n",
    "    _,_,best_fitness,_,_,_ = run_evolution(generation_limit=150, num_mutation=1, mutation_probability=0.5, n_elites=2)\n",
    "    best_fitnesses.append(best_fitness)\n",
    "\n",
    "\n",
    "fig = plt.figure('GA (best fitness)')\n",
    "ax = fig.gca()\n",
    "ax.boxplot([best_fitnesses], notch=False)\n",
    "#ax.set_xticklabels(['Mutation only'])\n",
    "ax.set_yscale('log')\n",
    "#ax.set_xlabel('Condition')\n",
    "ax.set_ylabel('Best fitness')\n",
    "plt.show()"
   ]
  },
  {
   "cell_type": "code",
   "execution_count": 48,
   "metadata": {},
   "outputs": [
    {
     "name": "stderr",
     "output_type": "stream",
     "text": [
      "100%|██████████| 100/100 [00:17<00:00,  5.63it/s]\n",
      "100%|██████████| 100/100 [00:17<00:00,  5.83it/s]\n",
      "100%|██████████| 100/100 [00:17<00:00,  5.79it/s]\n",
      "100%|██████████| 100/100 [00:17<00:00,  5.80it/s]\n",
      "100%|██████████| 100/100 [00:17<00:00,  5.76it/s]\n",
      "100%|██████████| 100/100 [00:17<00:00,  5.78it/s]\n",
      "100%|██████████| 100/100 [00:17<00:00,  5.79it/s]\n",
      "100%|██████████| 100/100 [00:17<00:00,  5.78it/s]\n",
      "100%|██████████| 100/100 [00:17<00:00,  5.80it/s]\n",
      "100%|██████████| 100/100 [00:17<00:00,  5.77it/s]\n",
      "100%|██████████| 100/100 [00:17<00:00,  5.72it/s]\n",
      "100%|██████████| 100/100 [00:17<00:00,  5.72it/s]\n",
      "100%|██████████| 100/100 [00:17<00:00,  5.75it/s]\n",
      "100%|██████████| 100/100 [00:17<00:00,  5.75it/s]\n",
      "100%|██████████| 100/100 [00:17<00:00,  5.74it/s]\n",
      "100%|██████████| 100/100 [00:17<00:00,  5.76it/s]\n",
      " 79%|███████▉  | 79/100 [00:13<00:03,  5.76it/s]\n"
     ]
    },
    {
     "name": "stdout",
     "output_type": "stream",
     "text": [
      "All items can fit perfectly in the bin!\n"
     ]
    },
    {
     "name": "stderr",
     "output_type": "stream",
     "text": [
      "100%|██████████| 100/100 [00:17<00:00,  5.67it/s]\n",
      "100%|██████████| 100/100 [00:17<00:00,  5.74it/s]\n",
      "100%|██████████| 100/100 [00:17<00:00,  5.73it/s]\n",
      "100%|██████████| 100/100 [00:17<00:00,  5.68it/s]\n",
      "100%|██████████| 100/100 [00:17<00:00,  5.73it/s]\n",
      "100%|██████████| 100/100 [00:18<00:00,  5.45it/s]\n",
      "100%|██████████| 100/100 [00:18<00:00,  5.52it/s]\n",
      "100%|██████████| 100/100 [00:17<00:00,  5.62it/s]\n",
      "100%|██████████| 100/100 [00:18<00:00,  5.52it/s]\n",
      "100%|██████████| 100/100 [00:17<00:00,  5.66it/s]\n",
      "100%|██████████| 100/100 [00:17<00:00,  5.73it/s]\n",
      "100%|██████████| 100/100 [00:17<00:00,  5.71it/s]\n",
      "100%|██████████| 100/100 [00:17<00:00,  5.72it/s]\n"
     ]
    },
    {
     "data": {
      "image/png": "[encoded data removed]",
      "text/plain": [
       "<Figure size 640x480 with 1 Axes>"
      ]
     },
     "metadata": {},
     "output_type": "display_data"
    }
   ],
   "source": [
    "## Fine-tuning mutation\n",
    "n_runs = 10\n",
    "mutation_rates = [0.1, 0.5, 0.9] # mutation rates\n",
    "\n",
    "best_fitnesses = []\n",
    "for mutation_rate in mutation_rates:\n",
    "    fitnesses_each_mutation = []\n",
    "    for _ in range(n_runs):\n",
    "        _,_,best_fitness,_,_,_ = run_evolution(generation_limit=100, num_mutation=1, mutation_probability=mutation_rate, n_elites=2)\n",
    "        fitnesses_each_mutation.append(best_fitness)\n",
    "    best_fitnesses.append(fitnesses_each_mutation)\n",
    "\n",
    "fig = plt.figure('GA (best fitness)')\n",
    "ax = fig.gca()\n",
    "ax.boxplot(best_fitnesses,notch=False)\n",
    "ax.set_xticklabels(mutation_rates)\n",
    "ax.set_xlabel('Mutation rate')\n",
    "ax.set_ylabel('Best fitness')\n",
    "plt.show()"
   ]
  },
  {
   "cell_type": "markdown",
   "metadata": {},
   "source": [
    "## 3D Bin Packing - Greed Search"
   ]
  },
  {
   "cell_type": "code",
   "execution_count": 8,
   "metadata": {},
   "outputs": [],
   "source": [
    "from mip import *\n",
    "from itertools import permutations\n",
    "\n",
    "BOX_WIDTH, BOX_HEIGHT, BOX_DEPTH = 3, 3, 3\n",
    "\n",
    "def main(plot=True):\n",
    "\n",
    "    model = Model()\n",
    "\n",
    "    W, H, D = BOX_WIDTH, BOX_HEIGHT, BOX_DEPTH\n",
    "    w, h, d = list(), list(), list()\n",
    "    m = list()\n",
    "\n",
    "    ## Reading instances\n",
    "    #numberOfVariables = -1\n",
    "    numberOfVariables = 0\n",
    "    with open('instance.txt') as f:\n",
    "        for index, line in enumerate(f.readlines()):\n",
    "            separated_values = line.replace('\\n', '').split(',')\n",
    "            separated_values = [float(value) for value in separated_values]\n",
    "\n",
    "            if len(separated_values) == 3:\n",
    "                #if index == 0:\n",
    "                #    W = float(separated_values[0])\n",
    "                #    H = float(separated_values[1])\n",
    "                #    D = float(separated_values[2])\n",
    "                #else:\n",
    "                possible_permutations = set(permutations(separated_values, 3))\n",
    "                m.append(len(possible_permutations))\n",
    "\n",
    "                w.append([value[0] for value in possible_permutations])\n",
    "                h.append([value[1] for value in possible_permutations])\n",
    "                d.append([value[2] for value in possible_permutations])\n",
    "\n",
    "                numberOfVariables += 1\n",
    "\n",
    "    ## Create variables\n",
    "    x, y, z = list(), list(), list()\n",
    "    s = list()\n",
    "\n",
    "    left, right, under, over, behind, infront = dict(), dict(), dict(), dict(), dict(), dict()\n",
    "\n",
    "    for i in range(numberOfVariables):\n",
    "        x.append(model.add_var(name=f'x_{i+1}', var_type=CONTINUOUS, lb=0))\n",
    "        y.append(model.add_var(name=f'y_{i+1}', var_type=CONTINUOUS, lb=0))\n",
    "        z.append(model.add_var(name=f'z_{i+1}', var_type=CONTINUOUS, lb=0))\n",
    "\n",
    "        s.append(list())\n",
    "        for k in range(m[i]):\n",
    "            s[i].append(model.add_var(name=f's_{i+1}_{k+1}', var_type=BINARY))\n",
    "\n",
    "        left[i] = dict()\n",
    "        right[i] = dict()\n",
    "        under[i] = dict()\n",
    "        over[i] = dict()\n",
    "        behind[i] = dict()\n",
    "        infront[i] = dict()\n",
    "\n",
    "        for j in range(i+1, numberOfVariables):\n",
    "            left[i][j] = model.add_var(name=f'l_{i+1}_{j+1}', var_type=BINARY)\n",
    "            right[i][j] = model.add_var(name=f'r_{i+1}_{j+1}', var_type=BINARY)\n",
    "            under[i][j] = model.add_var(name=f'u_{i+1}_{j+1}', var_type=BINARY)\n",
    "            over[i][j] = model.add_var(name=f'o_{i+1}_{j+1}', var_type=BINARY)\n",
    "            behind[i][j] = model.add_var(name=f'b_{i+1}_{j+1}', var_type=BINARY)\n",
    "            infront[i][j] = model.add_var(name=f'f_{i+1}_{j+1}', var_type=BINARY)\n",
    "\n",
    "    ## Create the model\n",
    "    model.objective = maximize(xsum(s[i][k] for i in range(numberOfVariables) for k in range(m[i])))\n",
    "\n",
    "    for i in range(numberOfVariables):\n",
    "        for j in range(i+1, numberOfVariables):\n",
    "            model += left[i][j] + right[i][j] + under[i][j] + over[i][j] + behind[i][j] + infront[i][j] >= xsum(s[i][k] for k in range(m[i])) + xsum(s[j][k] for k in range(m[j])) - 1\n",
    "            model += left[i][j] + right[i][j] + under[i][j] + over[i][j] + behind[i][j] + infront[i][j] <= xsum(s[i][k] for k in range(m[i]))\n",
    "            model += left[i][j] + right[i][j] + under[i][j] + over[i][j] + behind[i][j] + infront[i][j] <= xsum(s[j][k] for k in range(m[j]))\n",
    "\n",
    "            model += x[i] - x[j] + W * left[i][j] <= W - xsum(s[i][k] * w[i][k] for k in range(m[i]))\n",
    "            model += x[j] - x[i] + W * right[i][j] <= W - xsum(s[j][k] * w[j][k] for k in range(m[j]))\n",
    "            model += y[i] - y[j] + H * under[i][j] <= H - xsum(s[i][k] * h[i][k] for k in range(m[i]))\n",
    "            model += y[j] - y[i] + H * over[i][j] <= H - xsum(s[j][k] * h[j][k] for k in range(m[j]))\n",
    "            model += z[i] - z[j] + D * behind[i][j] <= D - xsum(s[i][k] * d[i][k] for k in range(m[i]))\n",
    "            model += z[j] - z[i] + D * infront[i][j] <= D - xsum(s[j][k] * d[j][k] for k in range(m[j]))\n",
    "        \n",
    "        model += xsum(s[i][k] for k in range(m[i])) == 1\n",
    "\n",
    "    for i in range(numberOfVariables):\n",
    "        model += x[i] <= W - xsum(s[i][k] * w[i][k] for k in range(m[i]))\n",
    "        model += y[i] <= H - xsum(s[i][k] * h[i][k] for k in range(m[i]))\n",
    "        model += z[i] <= D - xsum(s[i][k] * d[i][k] for k in range(m[i]))\n",
    "\n",
    "    ## Solving\n",
    "    model.max_gap = 0.05\n",
    "    status = model.optimize(max_seconds=600)\n",
    "\n",
    "    positions = []\n",
    "    orientations = []\n",
    "\n",
    "    if status == OptimizationStatus.OPTIMAL:\n",
    "        print(f'solution: {model.objective_value}')\n",
    "        items_orientation = dict()\n",
    "        for v in model.vars:\n",
    "            if v.name[0] == \"s\" and v.x >= 0.98:\n",
    "                sep_name = v.name.split(\"_\")\n",
    "                item_name = f\"Item {sep_name[1]}\"\n",
    "\n",
    "                items_orientation[item_name] = list()\n",
    "\n",
    "                items_orientation[item_name].append(w[int(sep_name[1])-1][int(sep_name[2])-1])\n",
    "                items_orientation[item_name].append(h[int(sep_name[1])-1][int(sep_name[2])-1])\n",
    "                items_orientation[item_name].append(d[int(sep_name[1])-1][int(sep_name[2])-1])\n",
    "\n",
    "        print(\"Items:\")\n",
    "        position = []\n",
    "        for index, v in enumerate(model.vars):\n",
    "            \n",
    "            if v.name[0] == \"x\":\n",
    "                sep_name = v.name.split(\"_\")\n",
    "                print(f\"\\tItem {sep_name[1]}:\")\n",
    "                # print(f\"\\t\\tposition: [{round(v.x/unit)}, \", end=\"\")\n",
    "                print(f\"\\t\\tposition: [{v.x}, \", end=\"\")\n",
    "                position.append(v.x)\n",
    "            elif v.name[0] == \"y\":\n",
    "                print(f\"{v.x}, \", end=\"\")\n",
    "                position.append(v.x)\n",
    "            elif v.name[0] == \"z\":\n",
    "                print(f\"{v.x}],\")\n",
    "                position.append(v.x)\n",
    "                positions.append(position)\n",
    "                position = []\n",
    "                sep_name = v.name.split(\"_\")\n",
    "                print(f\"\\t\\torientation: {items_orientation[f'Item {sep_name[1]}']}\")\n",
    "                orientations.append(items_orientation[f'Item {sep_name[1]}'])\n",
    "\n",
    "\n",
    "        print(\"boxes_dimensions = \", end=\"\")\n",
    "        print(orientations)\n",
    "        print(\"boxes_positions = \", end=\"\")\n",
    "        print(positions)\n",
    "\n",
    "        if plot:\n",
    "            plot_configuration_3d(positions, orientations, multi_color=True)\n",
    "        #model.write(\"3DPacking.lp\")\n",
    "    elif status == OptimizationStatus.INFEASIBLE:\n",
    "        print('The Problem is INFEASIBLE')"
   ]
  },
  {
   "cell_type": "code",
   "execution_count": 9,
   "metadata": {},
   "outputs": [
    {
     "name": "stdout",
     "output_type": "stream",
     "text": [
      "solution: 15.0\n",
      "Items:\n",
      "\tItem 1:\n",
      "\t\tposition: [2.0, 2.0, 0.0],\n",
      "\t\torientation: [1.0, 1.0, 3.0]\n",
      "\tItem 2:\n",
      "\t\tposition: [1.0, 0.0, 2.0],\n",
      "\t\torientation: [1.0, 3.0, 1.0]\n",
      "\tItem 3:\n",
      "\t\tposition: [0.0, 2.0, 0.0],\n",
      "\t\torientation: [1.0, 1.0, 3.0]\n",
      "\tItem 4:\n",
      "\t\tposition: [1.0, 1.0, 0.0],\n",
      "\t\torientation: [1.0, 1.0, 1.0]\n",
      "\tItem 5:\n",
      "\t\tposition: [0.0, 0.0, 2.0],\n",
      "\t\torientation: [1.0, 1.0, 1.0]\n",
      "\tItem 6:\n",
      "\t\tposition: [2.0, 1.0, 2.0],\n",
      "\t\torientation: [1.0, 1.0, 1.0]\n",
      "\tItem 7:\n",
      "\t\tposition: [2.0, 0.0, 2.0],\n",
      "\t\torientation: [1.0, 1.0, 1.0]\n",
      "\tItem 8:\n",
      "\t\tposition: [0.0, 1.0, 2.0],\n",
      "\t\torientation: [1.0, 1.0, 1.0]\n",
      "\tItem 9:\n",
      "\t\tposition: [1.0, 0.0, 0.0],\n",
      "\t\torientation: [1.0, 1.0, 1.0]\n",
      "\tItem 10:\n",
      "\t\tposition: [1.0, 2.0, 0.0],\n",
      "\t\torientation: [1.0, 1.0, 2.0]\n",
      "\tItem 11:\n",
      "\t\tposition: [0.0, 0.0, 0.0],\n",
      "\t\torientation: [1.0, 2.0, 1.0]\n",
      "\tItem 12:\n",
      "\t\tposition: [2.0, 0.0, 0.0],\n",
      "\t\torientation: [1.0, 2.0, 1.0]\n",
      "\tItem 13:\n",
      "\t\tposition: [2.0, 0.0, 1.0],\n",
      "\t\torientation: [1.0, 2.0, 1.0]\n",
      "\tItem 14:\n",
      "\t\tposition: [0.0, 1.0, 1.0],\n",
      "\t\torientation: [2.0, 1.0, 1.0]\n",
      "\tItem 15:\n",
      "\t\tposition: [0.0, 0.0, 1.0],\n",
      "\t\torientation: [2.0, 1.0, 1.0]\n",
      "boxes_dimensions = [[1.0, 1.0, 3.0], [1.0, 3.0, 1.0], [1.0, 1.0, 3.0], [1.0, 1.0, 1.0], [1.0, 1.0, 1.0], [1.0, 1.0, 1.0], [1.0, 1.0, 1.0], [1.0, 1.0, 1.0], [1.0, 1.0, 1.0], [1.0, 1.0, 2.0], [1.0, 2.0, 1.0], [1.0, 2.0, 1.0], [1.0, 2.0, 1.0], [2.0, 1.0, 1.0], [2.0, 1.0, 1.0]]\n",
      "boxes_positions = [[2.0, 2.0, 0.0], [1.0, 0.0, 2.0], [0.0, 2.0, 0.0], [1.0, 1.0, 0.0], [0.0, 0.0, 2.0], [2.0, 1.0, 2.0], [2.0, 0.0, 2.0], [0.0, 1.0, 2.0], [1.0, 0.0, 0.0], [1.0, 2.0, 0.0], [0.0, 0.0, 0.0], [2.0, 0.0, 0.0], [2.0, 0.0, 1.0], [0.0, 1.0, 1.0], [0.0, 0.0, 1.0]]\n"
     ]
    },
    {
     "data": {
      "image/png": "[encoded data removed]",
      "text/plain": [
       "<Figure size 640x480 with 1 Axes>"
      ]
     },
     "metadata": {},
     "output_type": "display_data"
    }
   ],
   "source": [
    "main()"
   ]
  },
  {
   "cell_type": "markdown",
   "metadata": {},
   "source": [
    "## 3D Bin Packing - Genetic Algorithms"
   ]
  },
  {
   "cell_type": "code",
   "execution_count": 26,
   "metadata": {},
   "outputs": [],
   "source": [
    "BOX_WIDTH = 3\n",
    "BOX_HEIGHT = 3\n",
    "BOX_DEPTH = 3\n",
    "\n",
    "\n",
    "def generate_items_3d(n):\n",
    "    return [(randrange(1,BOX_WIDTH//3), randrange(1,BOX_HEIGHT//3), randrange(1,BOX_DEPTH//3)) for _ in range(n)]\n",
    "\n",
    "#items = [(2,12,3),(7,12,4),(8,6,6),(3,6,2),(3,5,5),(5,5,3),(3,12,4),(3,7,4),(5,7,8),(2,6,9),(3,2,11),(4,2,7),(7,8,2),(10,3,8),(7,12,4),(8,6,6),(3,6,2)]\n",
    "items = [(3, 1, 1),\n",
    "    (3, 1, 1),\n",
    "    (3, 1, 1),\n",
    "    (1, 1, 1),\n",
    "    (1, 1, 1),\n",
    "    (1, 1, 1),\n",
    "    (1, 1, 1),\n",
    "    (1, 1, 1),\n",
    "    (1, 1, 1),\n",
    "    (2, 1, 1),\n",
    "    (2, 1, 1),\n",
    "    (2, 1, 1),\n",
    "    (2, 1, 1),\n",
    "    (2, 1, 1),\n",
    "    (2, 1, 1)]"
   ]
  },
  {
   "cell_type": "code",
   "execution_count": 27,
   "metadata": {},
   "outputs": [],
   "source": [
    "def items_oriented_3d(genome, items):\n",
    "    new_items = []\n",
    "    for item, gene in zip(items, genome):\n",
    "        w,h,d = item\n",
    "\n",
    "        if gene[3] == 1:\n",
    "            h = item[2]\n",
    "            d = item[1]\n",
    "        if gene[4] == 1:\n",
    "            w = item[2]\n",
    "            d = item[0]\n",
    "        if gene[5] == 1:\n",
    "            w = item[1]\n",
    "            h = item[0]\n",
    "\n",
    "        new_items.append((w,h,d))\n",
    "    return new_items\n",
    "\n",
    "def generate_genome(items):\n",
    "    candidate = []\n",
    "\n",
    "    for obj in items:\n",
    "        w,h,d = obj\n",
    "\n",
    "        rx = randint(0,1) ## swap y with z\n",
    "        ry = randint(0,1) ## swap x with z\n",
    "        rz = randint(0,1) ## swap x with y\n",
    "\n",
    "        if rx == 1:\n",
    "            h = obj[2]\n",
    "            d = obj[1]\n",
    "        if ry == 1:\n",
    "            w = obj[2]\n",
    "            d = obj[0]\n",
    "        if rz == 1:\n",
    "            w = obj[1]\n",
    "            h = obj[0]\n",
    "\n",
    "        # Each object has width, height and depth as decision variables\n",
    "        x = randint(0, BOX_WIDTH - w)\n",
    "        y = randint(0, BOX_HEIGHT - h)\n",
    "        z = randint(0, BOX_DEPTH - d)\n",
    "        candidate.append((x, y, z, rx, ry, rz))\n",
    "    return candidate\n",
    "\n",
    "def generate_population(size: int, items):\n",
    "    return [generate_genome(items) for _ in range(size)]\n",
    "\n",
    "## Fitness using Matrix vectorization (Maximization problem)\n",
    "def fitness(genome, items):\n",
    "    new_items = items_oriented_3d(genome, items)\n",
    "    sol_space = np.zeros((BOX_WIDTH, BOX_HEIGHT, BOX_DEPTH), dtype=np.int32)\n",
    "\n",
    "    for gene, item in zip(genome, new_items):\n",
    "        sol_space[gene[0]:gene[0]+item[0], gene[1]:gene[1]+item[1], gene[2]:gene[2]+item[2]] += 1\n",
    "\n",
    "    good_pos = np.where(sol_space == 1) ## the more space they occupy the better the fitness\n",
    "    good_fit = len(sol_space[good_pos])\n",
    "\n",
    "    bad_pos = np.where(sol_space > 1) ## penalty function for overlapped area\n",
    "    bad_fit = len(sol_space[bad_pos])\n",
    "\n",
    "    return (good_fit - bad_fit)\n",
    "\n",
    "## Selection for Maximization\n",
    "def selection_pair(population, n_parents : int = 2):\n",
    "    return choices(population=population, weights=[fitness(genome, items) for genome in population], k=n_parents)\n",
    "\n",
    "def single_point_crossover(a, b):\n",
    "    assert len(a) == len(b), 'Genomes must have the same length'\n",
    "\n",
    "    length = len(a)\n",
    "    if length < 2:\n",
    "        return a, b\n",
    "    \n",
    "    p = randint(1, length - 1)\n",
    "    return a[0:p] + b[p:], b[0:p] + a[p:]\n",
    "\n",
    "def mutation(genome, items, num: int = 1, probability: float = 0.5):\n",
    "    for _ in range(num):\n",
    "        index = randrange(len(genome))\n",
    "        if random() <= probability:\n",
    "            rx, ry, rz = randint(0,1), randint(0,1), randint(0,1)\n",
    "            w,h,d = items[index]\n",
    "            if rx == 1:\n",
    "                h = items[index][2]\n",
    "                d = items[index][1]\n",
    "            if ry == 1:\n",
    "                w = items[index][2]\n",
    "                d = items[index][0]\n",
    "            if rz == 1:\n",
    "                w = items[index][1]\n",
    "                h = items[index][0]\n",
    "            x = randint(0, BOX_WIDTH - w)\n",
    "            y = randint(0, BOX_HEIGHT - h)\n",
    "            z = randint(0, BOX_DEPTH - d)\n",
    "            genome[index] = (x, y, z, rx, ry, rz)\n",
    "    return genome\n",
    "\n",
    "def run_evolution(pop_size=100, generation_limit: int = 100, num_mutation = 1, mutation_probability=0.5):\n",
    "    \n",
    "    fitness_limit = sum([item[0]*item[1]*item[2] for item in items])\n",
    "\n",
    "    population = generate_population(pop_size, items=items)\n",
    "    best_fitnesses, worst_fitnesses = [], []\n",
    "\n",
    "    for i in tqdm(range(generation_limit)):\n",
    "        population = sorted(population, key=lambda genome: fitness(genome, items), reverse=True)\n",
    "        best_fitnesses.append(fitness(population[0], items))\n",
    "        worst_fitnesses.append(fitness(population[-1], items))\n",
    "        \n",
    "        if fitness(population[0], items) == fitness_limit:\n",
    "            print('All items can fit perfectly in the box!')\n",
    "            break\n",
    "        \n",
    "        next_generation = population[0:2] ## Elitism\n",
    "\n",
    "        for j in range(int(len(population) /2) - 1):\n",
    "            parents = selection_pair(population)\n",
    "            offspring_a, offspring_b = single_point_crossover(parents[0], parents[1])\n",
    "            offspring_a = mutation(offspring_a, items, num=num_mutation, probability=mutation_probability)\n",
    "            offspring_b = mutation(offspring_b, items, num=num_mutation, probability=mutation_probability)\n",
    "            next_generation += [offspring_a, offspring_b]\n",
    "        \n",
    "        population = next_generation\n",
    "\n",
    "    population = sorted(population, key=lambda genome: fitness(genome, items), reverse=True)\n",
    "    best_fitness = fitness(population[0], items)\n",
    "    best_fitnesses.append(best_fitness)\n",
    "    worst_fitnesses.append(fitness(population[-1], items))\n",
    "    \n",
    "    return population, i, best_fitness, best_fitnesses, worst_fitnesses, fitness_limit\n",
    "\n",
    "def plot_boxes(ax, boxes_pos, boxes_dim, multi_color):\n",
    "    for pos, dim in zip(boxes_pos, boxes_dim):\n",
    "        if multi_color:\n",
    "            color = \"#\"+''.join([choice('0123456789ABCDEF') for j in range(6)])\n",
    "        else:\n",
    "            color = 'lightblue'\n",
    "        x, y, z = pos\n",
    "        dx, dy, dz = dim\n",
    "        ax.bar3d(x, y, z, dx, dy, dz, shade=True, color=color, edgecolors=edge_color, alpha=alpha)\n",
    "        \n",
    "## Plot configuration\n",
    "def plot_configuration_3d(configuration, items, multi_color=False):\n",
    "    dimensions = [(conf[0], conf[1], conf[2]) for conf in configuration]\n",
    "    new_items = items_oriented_3d(configuration, items)\n",
    "\n",
    "    # Create the 3D plot\n",
    "    fig = plt.figure()\n",
    "    ax = fig.add_subplot(111, projection='3d')\n",
    "\n",
    "    # Set plot limits\n",
    "    ax.set_xlim([0, BOX_WIDTH])\n",
    "    ax.set_ylim([0, BOX_HEIGHT])\n",
    "    ax.set_zlim([0, BOX_DEPTH])\n",
    "\n",
    "    # Plot the boxes\n",
    "    plot_boxes(ax, dimensions, new_items, multi_color=multi_color)\n",
    "\n",
    "    # Set labels\n",
    "    ax.set_xlabel('X-axis')\n",
    "    ax.set_ylabel('Y-axis')\n",
    "    ax.set_zlabel('Z-axis')\n",
    "    ax.set_title('3D Bin Packing Solution')\n",
    "\n",
    "    # Show the plot\n",
    "    plt.show()"
   ]
  },
  {
   "cell_type": "code",
   "execution_count": 28,
   "metadata": {},
   "outputs": [
    {
     "name": "stderr",
     "output_type": "stream",
     "text": [
      " 54%|█████▍    | 108/200 [00:05<00:04, 21.57it/s]\n"
     ]
    },
    {
     "name": "stdout",
     "output_type": "stream",
     "text": [
      "All items can fit perfectly in the box!\n",
      "number of generations:  108\n",
      "items:  [(3, 1, 1), (3, 1, 1), (3, 1, 1), (1, 1, 1), (1, 1, 1), (1, 1, 1), (1, 1, 1), (1, 1, 1), (1, 1, 1), (2, 1, 1), (2, 1, 1), (2, 1, 1), (2, 1, 1), (2, 1, 1), (2, 1, 1)]\n",
      "best solution:  [(1, 0, 2, 1, 0, 1), (0, 0, 0, 1, 1, 0), (2, 0, 0, 0, 0, 1), (0, 2, 1, 0, 0, 0), (0, 2, 0, 1, 0, 1), (0, 2, 2, 0, 0, 0), (1, 0, 1, 1, 1, 1), (0, 1, 0, 0, 1, 1), (1, 0, 0, 0, 0, 0), (2, 1, 2, 0, 0, 1), (1, 1, 0, 1, 0, 1), (0, 1, 1, 0, 1, 0), (2, 1, 1, 1, 0, 1), (1, 1, 1, 1, 0, 1), (2, 0, 1, 1, 1, 0)]\n",
      "best fitness:  27\n",
      "maximum fitness =  27\n"
     ]
    },
    {
     "data": {
      "image/png": "[encoded data removed]",
      "text/plain": [
       "<Figure size 640x480 with 1 Axes>"
      ]
     },
     "metadata": {},
     "output_type": "display_data"
    },
    {
     "data": {
      "image/png": "[encoded data removed]",
      "text/plain": [
       "<Figure size 600x600 with 1 Axes>"
      ]
     },
     "metadata": {},
     "output_type": "display_data"
    }
   ],
   "source": [
    "population, generations, fit, best_fits, worst_fits, fit_lim = run_evolution(pop_size=50, generation_limit=200, num_mutation=2, mutation_probability=0.5)\n",
    "\n",
    "print('number of generations: ', generations)\n",
    "print('items: ', items)\n",
    "print('best solution: ', population[0])\n",
    "print('best fitness: ', fit)\n",
    "print('maximum fitness = ',fit_lim)\n",
    "plot_configuration_3d(population[0], items, multi_color=True)\n",
    "plot_fitness(best_fits, worst_fits, generations, fit_lim)"
   ]
  },
  {
   "cell_type": "code",
   "execution_count": 31,
   "metadata": {},
   "outputs": [],
   "source": [
    "def generate_genome(items):\n",
    "    candidate = []\n",
    "\n",
    "    for obj in items:\n",
    "        # Each object has x, y, width, height as decision variables\n",
    "        x = randint(0, BOX_WIDTH - obj[0])\n",
    "        y = randint(0, BOX_HEIGHT - obj[1])\n",
    "        z = randint(0, BOX_DEPTH - obj[2])\n",
    "        candidate.append((x, y, z))\n",
    "    return candidate\n",
    "\n",
    "def generate_population(size: int, items):\n",
    "    return [generate_genome(items) for _ in range(size)]\n",
    "\n",
    "\n",
    "## Fitness using Matrix vectorization (Maximization problem)\n",
    "def fitness(genome, items):\n",
    "    sol_space = np.zeros((BOX_WIDTH, BOX_HEIGHT, BOX_DEPTH), dtype=np.int32)\n",
    "\n",
    "    for gene, item in zip(genome, items):\n",
    "        sol_space[gene[0]:gene[0]+item[0], gene[1]:gene[1]+item[1], gene[2]:gene[2]+item[2]] += 1\n",
    "\n",
    "    good_pos = np.where(sol_space == 1) ## the more space they occupy the better the fitness\n",
    "    good_fit = len(sol_space[good_pos])\n",
    "\n",
    "    bad_pos = np.where(sol_space > 1) ## penalty function for overlapped area\n",
    "    bad_fit = len(sol_space[bad_pos])\n",
    "\n",
    "    return (good_fit - bad_fit) \n",
    "\n",
    "## Selection for Maximization\n",
    "def selection_pair(population, n_parents : int = 2):\n",
    "    return choices(population=population, weights=[fitness(genome, items) for genome in population], k=n_parents)\n",
    "\n",
    "def single_point_crossover(a, b):\n",
    "    assert len(a) == len(b), 'Genomes must have the same length'\n",
    "\n",
    "    length = len(a)\n",
    "    if length < 2:\n",
    "        return a, b\n",
    "    \n",
    "    p = randint(1, length - 1)\n",
    "    return a[0:p] + b[p:], b[0:p] + a[p:]\n",
    "\n",
    "def mutation(genome, items, num: int = 1, probability: float = 0.5):\n",
    "    for _ in range(num):\n",
    "        index = randrange(len(genome))\n",
    "        if random() <= probability:\n",
    "            x = randint(0, BOX_WIDTH - items[index][0])\n",
    "            y = randint(0, BOX_HEIGHT - items[index][1])\n",
    "            z = randint(0, BOX_DEPTH - items[index][2])\n",
    "            genome[index] = (x, y, z)\n",
    "    return genome\n",
    "\n",
    "def run_evolution(pop_size=100, generation_limit: int = 100, num_mutation = 1, mutation_probability=0.5):\n",
    "    \n",
    "    fitness_limit = sum([item[0]*item[1]*item[2] for item in items])\n",
    "\n",
    "    population = generate_population(pop_size, items=items)\n",
    "    best_fitnesses, worst_fitnesses = [], []\n",
    "\n",
    "    for i in tqdm(range(generation_limit)):\n",
    "        population = sorted(population, key=lambda genome: fitness(genome, items), reverse=True)\n",
    "        best_fitnesses.append(fitness(population[0], items))\n",
    "        worst_fitnesses.append(fitness(population[-1], items))\n",
    "        \n",
    "        if fitness(population[0], items) == fitness_limit:\n",
    "            print('All items can fit perfectly in the box!')\n",
    "            break\n",
    "        \n",
    "        next_generation = population[0:2] ## Elitism\n",
    "\n",
    "        for j in range(int(len(population) /2) - 1):\n",
    "            parents = selection_pair(population)\n",
    "            offspring_a, offspring_b = single_point_crossover(parents[0], parents[1])\n",
    "            offspring_a = mutation(offspring_a, items, num=num_mutation, probability=mutation_probability)\n",
    "            offspring_b = mutation(offspring_b, items, num=num_mutation, probability=mutation_probability)\n",
    "            next_generation += [offspring_a, offspring_b]\n",
    "        \n",
    "        population = next_generation\n",
    "\n",
    "    population = sorted(population, key=lambda genome: fitness(genome, items), reverse=True)\n",
    "    best_fitness = fitness(population[0], items)\n",
    "    best_fitnesses.append(best_fitness)\n",
    "    worst_fitnesses.append(fitness(population[-1], items))\n",
    "    \n",
    "    return population, i, best_fitness, best_fitnesses, worst_fitnesses, fitness_limit"
   ]
  },
  {
   "cell_type": "code",
   "execution_count": 32,
   "metadata": {},
   "outputs": [
    {
     "name": "stderr",
     "output_type": "stream",
     "text": [
      "100%|██████████| 200/200 [00:08<00:00, 22.28it/s]"
     ]
    },
    {
     "name": "stdout",
     "output_type": "stream",
     "text": [
      "number of generations:  199\n",
      "items:  [(3, 1, 1), (3, 1, 1), (3, 1, 1), (1, 1, 1), (1, 1, 1), (1, 1, 1), (1, 1, 1), (1, 1, 1), (1, 1, 1), (2, 1, 1), (2, 1, 1), (2, 1, 1), (2, 1, 1), (2, 1, 1), (2, 1, 1)]\n",
      "best solution:  [(0, 0, 0), (0, 1, 1), (0, 2, 0), (0, 0, 2), (0, 2, 2), (2, 1, 0), (0, 1, 0), (0, 2, 1), (0, 1, 2), (1, 2, 2), (1, 0, 1), (1, 0, 2), (0, 0, 1), (1, 1, 2), (1, 2, 1)]\n",
      "best fitness:  24\n",
      "maximum fitness =  27\n"
     ]
    },
    {
     "name": "stderr",
     "output_type": "stream",
     "text": [
      "\n"
     ]
    },
    {
     "data": {
      "image/png": "[encoded data removed]",
      "text/plain": [
       "<Figure size 640x480 with 1 Axes>"
      ]
     },
     "metadata": {},
     "output_type": "display_data"
    },
    {
     "data": {
      "image/png": "[encoded data removed]",
      "text/plain": [
       "<Figure size 600x600 with 1 Axes>"
      ]
     },
     "metadata": {},
     "output_type": "display_data"
    }
   ],
   "source": [
    "population, generations, fit, best_fits, worst_fits, fit_lim = run_evolution(pop_size=50, generation_limit=200, num_mutation=2, mutation_probability=0.5)\n",
    "\n",
    "print('number of generations: ', generations)\n",
    "print('items: ', items)\n",
    "print('best solution: ', population[0])\n",
    "print('best fitness: ', fit)\n",
    "print('maximum fitness = ',fit_lim)\n",
    "plot_configuration_3d(population[0], items, multi_color=True)\n",
    "plot_fitness(best_fits, worst_fits, generations, fit_lim)"
   ]
  },
  {
   "cell_type": "code",
   "execution_count": 42,
   "metadata": {},
   "outputs": [
    {
     "data": {
      "application/vnd.plotly.v1+json": {
       "config": {
        "plotlyServerURL": "https://plot.ly"
       },
       "data": [
        {
         "color": "#4FF0EA",
         "flatshading": true,
         "i": [
          7,
          0,
          0,
          0,
          4,
          4,
          6,
          6,
          4,
          0,
          3,
          2
         ],
         "j": [
          3,
          4,
          1,
          2,
          5,
          6,
          5,
          2,
          0,
          1,
          6,
          3
         ],
         "k": [
          0,
          7,
          2,
          3,
          6,
          7,
          1,
          1,
          5,
          5,
          7,
          6
         ],
         "name": "y",
         "opacity": 0.8,
         "showscale": false,
         "type": "mesh3d",
         "x": [
          0,
          0,
          3,
          3,
          0,
          0,
          3,
          3
         ],
         "y": [
          0,
          1,
          1,
          0,
          0,
          1,
          1,
          0
         ],
         "z": [
          0,
          0,
          0,
          0,
          1,
          1,
          1,
          1
         ]
        },
        {
         "color": "#29AE29",
         "flatshading": true,
         "i": [
          7,
          0,
          0,
          0,
          4,
          4,
          6,
          6,
          4,
          0,
          3,
          2
         ],
         "j": [
          3,
          4,
          1,
          2,
          5,
          6,
          5,
          2,
          0,
          1,
          6,
          3
         ],
         "k": [
          0,
          7,
          2,
          3,
          6,
          7,
          1,
          1,
          5,
          5,
          7,
          6
         ],
         "name": "y",
         "opacity": 0.8,
         "showscale": false,
         "type": "mesh3d",
         "x": [
          0,
          0,
          3,
          3,
          0,
          0,
          3,
          3
         ],
         "y": [
          1,
          2,
          2,
          1,
          1,
          2,
          2,
          1
         ],
         "z": [
          1,
          1,
          1,
          1,
          2,
          2,
          2,
          2
         ]
        },
        {
         "color": "#C7279F",
         "flatshading": true,
         "i": [
          7,
          0,
          0,
          0,
          4,
          4,
          6,
          6,
          4,
          0,
          3,
          2
         ],
         "j": [
          3,
          4,
          1,
          2,
          5,
          6,
          5,
          2,
          0,
          1,
          6,
          3
         ],
         "k": [
          0,
          7,
          2,
          3,
          6,
          7,
          1,
          1,
          5,
          5,
          7,
          6
         ],
         "name": "y",
         "opacity": 0.8,
         "showscale": false,
         "type": "mesh3d",
         "x": [
          0,
          0,
          3,
          3,
          0,
          0,
          3,
          3
         ],
         "y": [
          2,
          3,
          3,
          2,
          2,
          3,
          3,
          2
         ],
         "z": [
          0,
          0,
          0,
          0,
          1,
          1,
          1,
          1
         ]
        },
        {
         "color": "#C40BCD",
         "flatshading": true,
         "i": [
          7,
          0,
          0,
          0,
          4,
          4,
          6,
          6,
          4,
          0,
          3,
          2
         ],
         "j": [
          3,
          4,
          1,
          2,
          5,
          6,
          5,
          2,
          0,
          1,
          6,
          3
         ],
         "k": [
          0,
          7,
          2,
          3,
          6,
          7,
          1,
          1,
          5,
          5,
          7,
          6
         ],
         "name": "y",
         "opacity": 0.8,
         "showscale": false,
         "type": "mesh3d",
         "x": [
          0,
          0,
          1,
          1,
          0,
          0,
          1,
          1
         ],
         "y": [
          0,
          1,
          1,
          0,
          0,
          1,
          1,
          0
         ],
         "z": [
          2,
          2,
          2,
          2,
          3,
          3,
          3,
          3
         ]
        },
        {
         "color": "#A36921",
         "flatshading": true,
         "i": [
          7,
          0,
          0,
          0,
          4,
          4,
          6,
          6,
          4,
          0,
          3,
          2
         ],
         "j": [
          3,
          4,
          1,
          2,
          5,
          6,
          5,
          2,
          0,
          1,
          6,
          3
         ],
         "k": [
          0,
          7,
          2,
          3,
          6,
          7,
          1,
          1,
          5,
          5,
          7,
          6
         ],
         "name": "y",
         "opacity": 0.8,
         "showscale": false,
         "type": "mesh3d",
         "x": [
          0,
          0,
          1,
          1,
          0,
          0,
          1,
          1
         ],
         "y": [
          2,
          3,
          3,
          2,
          2,
          3,
          3,
          2
         ],
         "z": [
          2,
          2,
          2,
          2,
          3,
          3,
          3,
          3
         ]
        },
        {
         "color": "#ED3C22",
         "flatshading": true,
         "i": [
          7,
          0,
          0,
          0,
          4,
          4,
          6,
          6,
          4,
          0,
          3,
          2
         ],
         "j": [
          3,
          4,
          1,
          2,
          5,
          6,
          5,
          2,
          0,
          1,
          6,
          3
         ],
         "k": [
          0,
          7,
          2,
          3,
          6,
          7,
          1,
          1,
          5,
          5,
          7,
          6
         ],
         "name": "y",
         "opacity": 0.8,
         "showscale": false,
         "type": "mesh3d",
         "x": [
          2,
          2,
          3,
          3,
          2,
          2,
          3,
          3
         ],
         "y": [
          1,
          2,
          2,
          1,
          1,
          2,
          2,
          1
         ],
         "z": [
          0,
          0,
          0,
          0,
          1,
          1,
          1,
          1
         ]
        },
        {
         "color": "#1755D2",
         "flatshading": true,
         "i": [
          7,
          0,
          0,
          0,
          4,
          4,
          6,
          6,
          4,
          0,
          3,
          2
         ],
         "j": [
          3,
          4,
          1,
          2,
          5,
          6,
          5,
          2,
          0,
          1,
          6,
          3
         ],
         "k": [
          0,
          7,
          2,
          3,
          6,
          7,
          1,
          1,
          5,
          5,
          7,
          6
         ],
         "name": "y",
         "opacity": 0.8,
         "showscale": false,
         "type": "mesh3d",
         "x": [
          0,
          0,
          1,
          1,
          0,
          0,
          1,
          1
         ],
         "y": [
          1,
          2,
          2,
          1,
          1,
          2,
          2,
          1
         ],
         "z": [
          0,
          0,
          0,
          0,
          1,
          1,
          1,
          1
         ]
        },
        {
         "color": "#606182",
         "flatshading": true,
         "i": [
          7,
          0,
          0,
          0,
          4,
          4,
          6,
          6,
          4,
          0,
          3,
          2
         ],
         "j": [
          3,
          4,
          1,
          2,
          5,
          6,
          5,
          2,
          0,
          1,
          6,
          3
         ],
         "k": [
          0,
          7,
          2,
          3,
          6,
          7,
          1,
          1,
          5,
          5,
          7,
          6
         ],
         "name": "y",
         "opacity": 0.8,
         "showscale": false,
         "type": "mesh3d",
         "x": [
          0,
          0,
          1,
          1,
          0,
          0,
          1,
          1
         ],
         "y": [
          2,
          3,
          3,
          2,
          2,
          3,
          3,
          2
         ],
         "z": [
          1,
          1,
          1,
          1,
          2,
          2,
          2,
          2
         ]
        },
        {
         "color": "#2B2766",
         "flatshading": true,
         "i": [
          7,
          0,
          0,
          0,
          4,
          4,
          6,
          6,
          4,
          0,
          3,
          2
         ],
         "j": [
          3,
          4,
          1,
          2,
          5,
          6,
          5,
          2,
          0,
          1,
          6,
          3
         ],
         "k": [
          0,
          7,
          2,
          3,
          6,
          7,
          1,
          1,
          5,
          5,
          7,
          6
         ],
         "name": "y",
         "opacity": 0.8,
         "showscale": false,
         "type": "mesh3d",
         "x": [
          0,
          0,
          1,
          1,
          0,
          0,
          1,
          1
         ],
         "y": [
          1,
          2,
          2,
          1,
          1,
          2,
          2,
          1
         ],
         "z": [
          2,
          2,
          2,
          2,
          3,
          3,
          3,
          3
         ]
        },
        {
         "color": "#D4F0F7",
         "flatshading": true,
         "i": [
          7,
          0,
          0,
          0,
          4,
          4,
          6,
          6,
          4,
          0,
          3,
          2
         ],
         "j": [
          3,
          4,
          1,
          2,
          5,
          6,
          5,
          2,
          0,
          1,
          6,
          3
         ],
         "k": [
          0,
          7,
          2,
          3,
          6,
          7,
          1,
          1,
          5,
          5,
          7,
          6
         ],
         "name": "y",
         "opacity": 0.8,
         "showscale": false,
         "type": "mesh3d",
         "x": [
          1,
          1,
          3,
          3,
          1,
          1,
          3,
          3
         ],
         "y": [
          2,
          3,
          3,
          2,
          2,
          3,
          3,
          2
         ],
         "z": [
          2,
          2,
          2,
          2,
          3,
          3,
          3,
          3
         ]
        },
        {
         "color": "#AE2014",
         "flatshading": true,
         "i": [
          7,
          0,
          0,
          0,
          4,
          4,
          6,
          6,
          4,
          0,
          3,
          2
         ],
         "j": [
          3,
          4,
          1,
          2,
          5,
          6,
          5,
          2,
          0,
          1,
          6,
          3
         ],
         "k": [
          0,
          7,
          2,
          3,
          6,
          7,
          1,
          1,
          5,
          5,
          7,
          6
         ],
         "name": "y",
         "opacity": 0.8,
         "showscale": false,
         "type": "mesh3d",
         "x": [
          1,
          1,
          3,
          3,
          1,
          1,
          3,
          3
         ],
         "y": [
          0,
          1,
          1,
          0,
          0,
          1,
          1,
          0
         ],
         "z": [
          1,
          1,
          1,
          1,
          2,
          2,
          2,
          2
         ]
        },
        {
         "color": "#80AAF5",
         "flatshading": true,
         "i": [
          7,
          0,
          0,
          0,
          4,
          4,
          6,
          6,
          4,
          0,
          3,
          2
         ],
         "j": [
          3,
          4,
          1,
          2,
          5,
          6,
          5,
          2,
          0,
          1,
          6,
          3
         ],
         "k": [
          0,
          7,
          2,
          3,
          6,
          7,
          1,
          1,
          5,
          5,
          7,
          6
         ],
         "name": "y",
         "opacity": 0.8,
         "showscale": false,
         "type": "mesh3d",
         "x": [
          1,
          1,
          3,
          3,
          1,
          1,
          3,
          3
         ],
         "y": [
          0,
          1,
          1,
          0,
          0,
          1,
          1,
          0
         ],
         "z": [
          2,
          2,
          2,
          2,
          3,
          3,
          3,
          3
         ]
        },
        {
         "color": "#1599B7",
         "flatshading": true,
         "i": [
          7,
          0,
          0,
          0,
          4,
          4,
          6,
          6,
          4,
          0,
          3,
          2
         ],
         "j": [
          3,
          4,
          1,
          2,
          5,
          6,
          5,
          2,
          0,
          1,
          6,
          3
         ],
         "k": [
          0,
          7,
          2,
          3,
          6,
          7,
          1,
          1,
          5,
          5,
          7,
          6
         ],
         "name": "y",
         "opacity": 0.8,
         "showscale": false,
         "type": "mesh3d",
         "x": [
          0,
          0,
          2,
          2,
          0,
          0,
          2,
          2
         ],
         "y": [
          0,
          1,
          1,
          0,
          0,
          1,
          1,
          0
         ],
         "z": [
          1,
          1,
          1,
          1,
          2,
          2,
          2,
          2
         ]
        },
        {
         "color": "#CEB80B",
         "flatshading": true,
         "i": [
          7,
          0,
          0,
          0,
          4,
          4,
          6,
          6,
          4,
          0,
          3,
          2
         ],
         "j": [
          3,
          4,
          1,
          2,
          5,
          6,
          5,
          2,
          0,
          1,
          6,
          3
         ],
         "k": [
          0,
          7,
          2,
          3,
          6,
          7,
          1,
          1,
          5,
          5,
          7,
          6
         ],
         "name": "y",
         "opacity": 0.8,
         "showscale": false,
         "type": "mesh3d",
         "x": [
          1,
          1,
          3,
          3,
          1,
          1,
          3,
          3
         ],
         "y": [
          1,
          2,
          2,
          1,
          1,
          2,
          2,
          1
         ],
         "z": [
          2,
          2,
          2,
          2,
          3,
          3,
          3,
          3
         ]
        },
        {
         "color": "#FB3262",
         "flatshading": true,
         "i": [
          7,
          0,
          0,
          0,
          4,
          4,
          6,
          6,
          4,
          0,
          3,
          2
         ],
         "j": [
          3,
          4,
          1,
          2,
          5,
          6,
          5,
          2,
          0,
          1,
          6,
          3
         ],
         "k": [
          0,
          7,
          2,
          3,
          6,
          7,
          1,
          1,
          5,
          5,
          7,
          6
         ],
         "name": "y",
         "opacity": 0.8,
         "showscale": false,
         "type": "mesh3d",
         "x": [
          1,
          1,
          3,
          3,
          1,
          1,
          3,
          3
         ],
         "y": [
          2,
          3,
          3,
          2,
          2,
          3,
          3,
          2
         ],
         "z": [
          1,
          1,
          1,
          1,
          2,
          2,
          2,
          2
         ]
        }
       ],
       "layout": {
        "scene": {
         "aspectmode": "cube",
         "aspectratio": {
          "x": 1,
          "y": 1,
          "z": 1
         },
         "xaxis": {
          "range": [
           0,
           3
          ]
         },
         "yaxis": {
          "range": [
           0,
           3
          ]
         },
         "zaxis": {
          "range": [
           0,
           3
          ]
         }
        },
        "template": {
         "data": {
          "bar": [
           {
            "error_x": {
             "color": "#2a3f5f"
            },
            "error_y": {
             "color": "#2a3f5f"
            },
            "marker": {
             "line": {
              "color": "#E5ECF6",
              "width": 0.5
             },
             "pattern": {
              "fillmode": "overlay",
              "size": 10,
              "solidity": 0.2
             }
            },
            "type": "bar"
           }
          ],
          "barpolar": [
           {
            "marker": {
             "line": {
              "color": "#E5ECF6",
              "width": 0.5
             },
             "pattern": {
              "fillmode": "overlay",
              "size": 10,
              "solidity": 0.2
             }
            },
            "type": "barpolar"
           }
          ],
          "carpet": [
           {
            "aaxis": {
             "endlinecolor": "#2a3f5f",
             "gridcolor": "white",
             "linecolor": "white",
             "minorgridcolor": "white",
             "startlinecolor": "#2a3f5f"
            },
            "baxis": {
             "endlinecolor": "#2a3f5f",
             "gridcolor": "white",
             "linecolor": "white",
             "minorgridcolor": "white",
             "startlinecolor": "#2a3f5f"
            },
            "type": "carpet"
           }
          ],
          "choropleth": [
           {
            "colorbar": {
             "outlinewidth": 0,
             "ticks": ""
            },
            "type": "choropleth"
           }
          ],
          "contour": [
           {
            "colorbar": {
             "outlinewidth": 0,
             "ticks": ""
            },
            "colorscale": [
             [
              0,
              "#0d0887"
             ],
             [
              0.1111111111111111,
              "#46039f"
             ],
             [
              0.2222222222222222,
              "#7201a8"
             ],
             [
              0.3333333333333333,
              "#9c179e"
             ],
             [
              0.4444444444444444,
              "#bd3786"
             ],
             [
              0.5555555555555556,
              "#d8576b"
             ],
             [
              0.6666666666666666,
              "#ed7953"
             ],
             [
              0.7777777777777778,
              "#fb9f3a"
             ],
             [
              0.8888888888888888,
              "#fdca26"
             ],
             [
              1,
              "#f0f921"
             ]
            ],
            "type": "contour"
           }
          ],
          "contourcarpet": [
           {
            "colorbar": {
             "outlinewidth": 0,
             "ticks": ""
            },
            "type": "contourcarpet"
           }
          ],
          "heatmap": [
           {
            "colorbar": {
             "outlinewidth": 0,
             "ticks": ""
            },
            "colorscale": [
             [
              0,
              "#0d0887"
             ],
             [
              0.1111111111111111,
              "#46039f"
             ],
             [
              0.2222222222222222,
              "#7201a8"
             ],
             [
              0.3333333333333333,
              "#9c179e"
             ],
             [
              0.4444444444444444,
              "#bd3786"
             ],
             [
              0.5555555555555556,
              "#d8576b"
             ],
             [
              0.6666666666666666,
              "#ed7953"
             ],
             [
              0.7777777777777778,
              "#fb9f3a"
             ],
             [
              0.8888888888888888,
              "#fdca26"
             ],
             [
              1,
              "#f0f921"
             ]
            ],
            "type": "heatmap"
           }
          ],
          "heatmapgl": [
           {
            "colorbar": {
             "outlinewidth": 0,
             "ticks": ""
            },
            "colorscale": [
             [
              0,
              "#0d0887"
             ],
             [
              0.1111111111111111,
              "#46039f"
             ],
             [
              0.2222222222222222,
              "#7201a8"
             ],
             [
              0.3333333333333333,
              "#9c179e"
             ],
             [
              0.4444444444444444,
              "#bd3786"
             ],
             [
              0.5555555555555556,
              "#d8576b"
             ],
             [
              0.6666666666666666,
              "#ed7953"
             ],
             [
              0.7777777777777778,
              "#fb9f3a"
             ],
             [
              0.8888888888888888,
              "#fdca26"
             ],
             [
              1,
              "#f0f921"
             ]
            ],
            "type": "heatmapgl"
           }
          ],
          "histogram": [
           {
            "marker": {
             "pattern": {
              "fillmode": "overlay",
              "size": 10,
              "solidity": 0.2
             }
            },
            "type": "histogram"
           }
          ],
          "histogram2d": [
           {
            "colorbar": {
             "outlinewidth": 0,
             "ticks": ""
            },
            "colorscale": [
             [
              0,
              "#0d0887"
             ],
             [
              0.1111111111111111,
              "#46039f"
             ],
             [
              0.2222222222222222,
              "#7201a8"
             ],
             [
              0.3333333333333333,
              "#9c179e"
             ],
             [
              0.4444444444444444,
              "#bd3786"
             ],
             [
              0.5555555555555556,
              "#d8576b"
             ],
             [
              0.6666666666666666,
              "#ed7953"
             ],
             [
              0.7777777777777778,
              "#fb9f3a"
             ],
             [
              0.8888888888888888,
              "#fdca26"
             ],
             [
              1,
              "#f0f921"
             ]
            ],
            "type": "histogram2d"
           }
          ],
          "histogram2dcontour": [
           {
            "colorbar": {
             "outlinewidth": 0,
             "ticks": ""
            },
            "colorscale": [
             [
              0,
              "#0d0887"
             ],
             [
              0.1111111111111111,
              "#46039f"
             ],
             [
              0.2222222222222222,
              "#7201a8"
             ],
             [
              0.3333333333333333,
              "#9c179e"
             ],
             [
              0.4444444444444444,
              "#bd3786"
             ],
             [
              0.5555555555555556,
              "#d8576b"
             ],
             [
              0.6666666666666666,
              "#ed7953"
             ],
             [
              0.7777777777777778,
              "#fb9f3a"
             ],
             [
              0.8888888888888888,
              "#fdca26"
             ],
             [
              1,
              "#f0f921"
             ]
            ],
            "type": "histogram2dcontour"
           }
          ],
          "mesh3d": [
           {
            "colorbar": {
             "outlinewidth": 0,
             "ticks": ""
            },
            "type": "mesh3d"
           }
          ],
          "parcoords": [
           {
            "line": {
             "colorbar": {
              "outlinewidth": 0,
              "ticks": ""
             }
            },
            "type": "parcoords"
           }
          ],
          "pie": [
           {
            "automargin": true,
            "type": "pie"
           }
          ],
          "scatter": [
           {
            "fillpattern": {
             "fillmode": "overlay",
             "size": 10,
             "solidity": 0.2
            },
            "type": "scatter"
           }
          ],
          "scatter3d": [
           {
            "line": {
             "colorbar": {
              "outlinewidth": 0,
              "ticks": ""
             }
            },
            "marker": {
             "colorbar": {
              "outlinewidth": 0,
              "ticks": ""
             }
            },
            "type": "scatter3d"
           }
          ],
          "scattercarpet": [
           {
            "marker": {
             "colorbar": {
              "outlinewidth": 0,
              "ticks": ""
             }
            },
            "type": "scattercarpet"
           }
          ],
          "scattergeo": [
           {
            "marker": {
             "colorbar": {
              "outlinewidth": 0,
              "ticks": ""
             }
            },
            "type": "scattergeo"
           }
          ],
          "scattergl": [
           {
            "marker": {
             "colorbar": {
              "outlinewidth": 0,
              "ticks": ""
             }
            },
            "type": "scattergl"
           }
          ],
          "scattermapbox": [
           {
            "marker": {
             "colorbar": {
              "outlinewidth": 0,
              "ticks": ""
             }
            },
            "type": "scattermapbox"
           }
          ],
          "scatterpolar": [
           {
            "marker": {
             "colorbar": {
              "outlinewidth": 0,
              "ticks": ""
             }
            },
            "type": "scatterpolar"
           }
          ],
          "scatterpolargl": [
           {
            "marker": {
             "colorbar": {
              "outlinewidth": 0,
              "ticks": ""
             }
            },
            "type": "scatterpolargl"
           }
          ],
          "scatterternary": [
           {
            "marker": {
             "colorbar": {
              "outlinewidth": 0,
              "ticks": ""
             }
            },
            "type": "scatterternary"
           }
          ],
          "surface": [
           {
            "colorbar": {
             "outlinewidth": 0,
             "ticks": ""
            },
            "colorscale": [
             [
              0,
              "#0d0887"
             ],
             [
              0.1111111111111111,
              "#46039f"
             ],
             [
              0.2222222222222222,
              "#7201a8"
             ],
             [
              0.3333333333333333,
              "#9c179e"
             ],
             [
              0.4444444444444444,
              "#bd3786"
             ],
             [
              0.5555555555555556,
              "#d8576b"
             ],
             [
              0.6666666666666666,
              "#ed7953"
             ],
             [
              0.7777777777777778,
              "#fb9f3a"
             ],
             [
              0.8888888888888888,
              "#fdca26"
             ],
             [
              1,
              "#f0f921"
             ]
            ],
            "type": "surface"
           }
          ],
          "table": [
           {
            "cells": {
             "fill": {
              "color": "#EBF0F8"
             },
             "line": {
              "color": "white"
             }
            },
            "header": {
             "fill": {
              "color": "#C8D4E3"
             },
             "line": {
              "color": "white"
             }
            },
            "type": "table"
           }
          ]
         },
         "layout": {
          "annotationdefaults": {
           "arrowcolor": "#2a3f5f",
           "arrowhead": 0,
           "arrowwidth": 1
          },
          "autotypenumbers": "strict",
          "coloraxis": {
           "colorbar": {
            "outlinewidth": 0,
            "ticks": ""
           }
          },
          "colorscale": {
           "diverging": [
            [
             0,
             "#8e0152"
            ],
            [
             0.1,
             "#c51b7d"
            ],
            [
             0.2,
             "#de77ae"
            ],
            [
             0.3,
             "#f1b6da"
            ],
            [
             0.4,
             "#fde0ef"
            ],
            [
             0.5,
             "#f7f7f7"
            ],
            [
             0.6,
             "#e6f5d0"
            ],
            [
             0.7,
             "#b8e186"
            ],
            [
             0.8,
             "#7fbc41"
            ],
            [
             0.9,
             "#4d9221"
            ],
            [
             1,
             "#276419"
            ]
           ],
           "sequential": [
            [
             0,
             "#0d0887"
            ],
            [
             0.1111111111111111,
             "#46039f"
            ],
            [
             0.2222222222222222,
             "#7201a8"
            ],
            [
             0.3333333333333333,
             "#9c179e"
            ],
            [
             0.4444444444444444,
             "#bd3786"
            ],
            [
             0.5555555555555556,
             "#d8576b"
            ],
            [
             0.6666666666666666,
             "#ed7953"
            ],
            [
             0.7777777777777778,
             "#fb9f3a"
            ],
            [
             0.8888888888888888,
             "#fdca26"
            ],
            [
             1,
             "#f0f921"
            ]
           ],
           "sequentialminus": [
            [
             0,
             "#0d0887"
            ],
            [
             0.1111111111111111,
             "#46039f"
            ],
            [
             0.2222222222222222,
             "#7201a8"
            ],
            [
             0.3333333333333333,
             "#9c179e"
            ],
            [
             0.4444444444444444,
             "#bd3786"
            ],
            [
             0.5555555555555556,
             "#d8576b"
            ],
            [
             0.6666666666666666,
             "#ed7953"
            ],
            [
             0.7777777777777778,
             "#fb9f3a"
            ],
            [
             0.8888888888888888,
             "#fdca26"
            ],
            [
             1,
             "#f0f921"
            ]
           ]
          },
          "colorway": [
           "#636efa",
           "#EF553B",
           "#00cc96",
           "#ab63fa",
           "#FFA15A",
           "#19d3f3",
           "#FF6692",
           "#B6E880",
           "#FF97FF",
           "#FECB52"
          ],
          "font": {
           "color": "#2a3f5f"
          },
          "geo": {
           "bgcolor": "white",
           "lakecolor": "white",
           "landcolor": "#E5ECF6",
           "showlakes": true,
           "showland": true,
           "subunitcolor": "white"
          },
          "hoverlabel": {
           "align": "left"
          },
          "hovermode": "closest",
          "mapbox": {
           "style": "light"
          },
          "paper_bgcolor": "white",
          "plot_bgcolor": "#E5ECF6",
          "polar": {
           "angularaxis": {
            "gridcolor": "white",
            "linecolor": "white",
            "ticks": ""
           },
           "bgcolor": "#E5ECF6",
           "radialaxis": {
            "gridcolor": "white",
            "linecolor": "white",
            "ticks": ""
           }
          },
          "scene": {
           "xaxis": {
            "backgroundcolor": "#E5ECF6",
            "gridcolor": "white",
            "gridwidth": 2,
            "linecolor": "white",
            "showbackground": true,
            "ticks": "",
            "zerolinecolor": "white"
           },
           "yaxis": {
            "backgroundcolor": "#E5ECF6",
            "gridcolor": "white",
            "gridwidth": 2,
            "linecolor": "white",
            "showbackground": true,
            "ticks": "",
            "zerolinecolor": "white"
           },
           "zaxis": {
            "backgroundcolor": "#E5ECF6",
            "gridcolor": "white",
            "gridwidth": 2,
            "linecolor": "white",
            "showbackground": true,
            "ticks": "",
            "zerolinecolor": "white"
           }
          },
          "shapedefaults": {
           "line": {
            "color": "#2a3f5f"
           }
          },
          "ternary": {
           "aaxis": {
            "gridcolor": "white",
            "linecolor": "white",
            "ticks": ""
           },
           "baxis": {
            "gridcolor": "white",
            "linecolor": "white",
            "ticks": ""
           },
           "bgcolor": "#E5ECF6",
           "caxis": {
            "gridcolor": "white",
            "linecolor": "white",
            "ticks": ""
           }
          },
          "title": {
           "x": 0.05
          },
          "xaxis": {
           "automargin": true,
           "gridcolor": "white",
           "linecolor": "white",
           "ticks": "",
           "title": {
            "standoff": 15
           },
           "zerolinecolor": "white",
           "zerolinewidth": 2
          },
          "yaxis": {
           "automargin": true,
           "gridcolor": "white",
           "linecolor": "white",
           "ticks": "",
           "title": {
            "standoff": 15
           },
           "zerolinecolor": "white",
           "zerolinewidth": 2
          }
         }
        }
       }
      }
     },
     "metadata": {},
     "output_type": "display_data"
    }
   ],
   "source": [
    "plot_configuration_3d_interactive(population[0], items)"
   ]
  }
 ],
 "metadata": {
  "kernelspec": {
   "display_name": "bioinspired",
   "language": "python",
   "name": "python3"
  },
  "language_info": {
   "codemirror_mode": {
    "name": "ipython",
    "version": 3
   },
   "file_extension": ".py",
   "mimetype": "text/x-python",
   "name": "python",
   "nbconvert_exporter": "python",
   "pygments_lexer": "ipython3",
   "version": "3.11.4"
  }
 },
 "nbformat": 4,
 "nbformat_minor": 2
}
